{
 "cells": [
  {
   "cell_type": "markdown",
   "id": "7666d1c2",
   "metadata": {},
   "source": [
    "# Lensing Code Anlaysis"
   ]
  },
  {
   "cell_type": "markdown",
   "id": "e97e1b56",
   "metadata": {},
   "source": [
    "## Imports"
   ]
  },
  {
   "cell_type": "code",
   "execution_count": 1267,
   "id": "dd6ae180",
   "metadata": {},
   "outputs": [],
   "source": [
    "# import some standard libraries\n",
    "\n",
    "import sys\n",
    "import numpy as np\n",
    "import numpy.ma as ma\n",
    "import matplotlib.pyplot as plt\n",
    "import latex as tex\n",
    "import scipy\n",
    "from scipy.optimize import curve_fit\n",
    "from astropy.cosmology import wCDM\n",
    "import astropy.cosmology as cosmo\n",
    "from pprint import pprint\n",
    "import astropy.units as u\n",
    "from ctypes import *\n",
    "import random\n",
    "from scipy.optimize import least_squares\n",
    "\n",
    "\n",
    "\n",
    "# import the lenspack library\n",
    "# https://cosmostat.github.io/lenspack/index.html\n",
    "\n",
    "import lenspack as lp"
   ]
  },
  {
   "cell_type": "markdown",
   "id": "a78194e7",
   "metadata": {},
   "source": [
    "# Set some plotting parameters"
   ]
  },
  {
   "cell_type": "code",
   "execution_count": 1268,
   "id": "c70ef091",
   "metadata": {
    "scrolled": true
   },
   "outputs": [
    {
     "name": "stdout",
     "output_type": "stream",
     "text": [
      "KeysView(RcParams({'_internal.classic_mode': False,\n",
      "          'agg.path.chunksize': 0,\n",
      "          'animation.bitrate': -1,\n",
      "          'animation.codec': 'h264',\n",
      "          'animation.convert_args': ['-layers', 'OptimizePlus'],\n",
      "          'animation.convert_path': 'convert',\n",
      "          'animation.embed_limit': 20.0,\n",
      "          'animation.ffmpeg_args': [],\n",
      "          'animation.ffmpeg_path': 'ffmpeg',\n",
      "          'animation.frame_format': 'png',\n",
      "          'animation.html': 'none',\n",
      "          'animation.writer': 'ffmpeg',\n",
      "          'axes.autolimit_mode': 'data',\n",
      "          'axes.axisbelow': 'line',\n",
      "          'axes.edgecolor': 'black',\n",
      "          'axes.facecolor': 'white',\n",
      "          'axes.formatter.limits': [-5, 6],\n",
      "          'axes.formatter.min_exponent': 0,\n",
      "          'axes.formatter.offset_threshold': 4,\n",
      "          'axes.formatter.use_locale': False,\n",
      "          'axes.formatter.use_mathtext': False,\n",
      "          'axes.formatter.useoffset': True,\n",
      "          'axes.grid': False,\n",
      "          'axes.grid.axis': 'both',\n",
      "          'axes.grid.which': 'major',\n",
      "          'axes.labelcolor': 'black',\n",
      "          'axes.labelpad': 4.0,\n",
      "          'axes.labelsize': 'medium',\n",
      "          'axes.labelweight': 'normal',\n",
      "          'axes.linewidth': 0.8,\n",
      "          'axes.prop_cycle': cycler('color', ['#1f77b4', '#ff7f0e', '#2ca02c', '#d62728', '#9467bd', '#8c564b', '#e377c2', '#7f7f7f', '#bcbd22', '#17becf']),\n",
      "          'axes.spines.bottom': True,\n",
      "          'axes.spines.left': True,\n",
      "          'axes.spines.right': True,\n",
      "          'axes.spines.top': True,\n",
      "          'axes.titlecolor': 'auto',\n",
      "          'axes.titlelocation': 'center',\n",
      "          'axes.titlepad': 6.0,\n",
      "          'axes.titlesize': 'large',\n",
      "          'axes.titleweight': 'normal',\n",
      "          'axes.titley': None,\n",
      "          'axes.unicode_minus': True,\n",
      "          'axes.xmargin': 0.05,\n",
      "          'axes.ymargin': 0.05,\n",
      "          'axes.zmargin': 0.05,\n",
      "          'axes3d.automargin': False,\n",
      "          'axes3d.grid': True,\n",
      "          'axes3d.mouserotationstyle': 'arcball',\n",
      "          'axes3d.trackballborder': 0.2,\n",
      "          'axes3d.trackballsize': 0.667,\n",
      "          'axes3d.xaxis.panecolor': (0.95, 0.95, 0.95, 0.5),\n",
      "          'axes3d.yaxis.panecolor': (0.9, 0.9, 0.9, 0.5),\n",
      "          'axes3d.zaxis.panecolor': (0.925, 0.925, 0.925, 0.5),\n",
      "          'backend': 'module://matplotlib_inline.backend_inline',\n",
      "          'backend_fallback': True,\n",
      "          'boxplot.bootstrap': None,\n",
      "          'boxplot.boxprops.color': 'black',\n",
      "          'boxplot.boxprops.linestyle': '-',\n",
      "          'boxplot.boxprops.linewidth': 1.0,\n",
      "          'boxplot.capprops.color': 'black',\n",
      "          'boxplot.capprops.linestyle': '-',\n",
      "          'boxplot.capprops.linewidth': 1.0,\n",
      "          'boxplot.flierprops.color': 'black',\n",
      "          'boxplot.flierprops.linestyle': 'none',\n",
      "          'boxplot.flierprops.linewidth': 1.0,\n",
      "          'boxplot.flierprops.marker': 'o',\n",
      "          'boxplot.flierprops.markeredgecolor': 'black',\n",
      "          'boxplot.flierprops.markeredgewidth': 1.0,\n",
      "          'boxplot.flierprops.markerfacecolor': 'none',\n",
      "          'boxplot.flierprops.markersize': 6.0,\n",
      "          'boxplot.meanline': False,\n",
      "          'boxplot.meanprops.color': 'C2',\n",
      "          'boxplot.meanprops.linestyle': '--',\n",
      "          'boxplot.meanprops.linewidth': 1.0,\n",
      "          'boxplot.meanprops.marker': '^',\n",
      "          'boxplot.meanprops.markeredgecolor': 'C2',\n",
      "          'boxplot.meanprops.markerfacecolor': 'C2',\n",
      "          'boxplot.meanprops.markersize': 6.0,\n",
      "          'boxplot.medianprops.color': 'C1',\n",
      "          'boxplot.medianprops.linestyle': '-',\n",
      "          'boxplot.medianprops.linewidth': 1.0,\n",
      "          'boxplot.notch': False,\n",
      "          'boxplot.patchartist': False,\n",
      "          'boxplot.showbox': True,\n",
      "          'boxplot.showcaps': True,\n",
      "          'boxplot.showfliers': True,\n",
      "          'boxplot.showmeans': False,\n",
      "          'boxplot.vertical': True,\n",
      "          'boxplot.whiskerprops.color': 'black',\n",
      "          'boxplot.whiskerprops.linestyle': '-',\n",
      "          'boxplot.whiskerprops.linewidth': 1.0,\n",
      "          'boxplot.whiskers': 1.5,\n",
      "          'contour.algorithm': 'mpl2014',\n",
      "          'contour.corner_mask': True,\n",
      "          'contour.linewidth': None,\n",
      "          'contour.negative_linestyle': 'dashed',\n",
      "          'date.autoformatter.day': '%Y-%m-%d',\n",
      "          'date.autoformatter.hour': '%m-%d %H',\n",
      "          'date.autoformatter.microsecond': '%M:%S.%f',\n",
      "          'date.autoformatter.minute': '%d %H:%M',\n",
      "          'date.autoformatter.month': '%Y-%m',\n",
      "          'date.autoformatter.second': '%H:%M:%S',\n",
      "          'date.autoformatter.year': '%Y',\n",
      "          'date.converter': 'auto',\n",
      "          'date.epoch': '1970-01-01T00:00:00',\n",
      "          'date.interval_multiples': True,\n",
      "          'docstring.hardcopy': False,\n",
      "          'errorbar.capsize': 0.0,\n",
      "          'figure.autolayout': False,\n",
      "          'figure.constrained_layout.h_pad': 0.04167,\n",
      "          'figure.constrained_layout.hspace': 0.02,\n",
      "          'figure.constrained_layout.use': False,\n",
      "          'figure.constrained_layout.w_pad': 0.04167,\n",
      "          'figure.constrained_layout.wspace': 0.02,\n",
      "          'figure.dpi': 100.0,\n",
      "          'figure.edgecolor': 'white',\n",
      "          'figure.facecolor': 'white',\n",
      "          'figure.figsize': [9.6, 7.2],\n",
      "          'figure.frameon': True,\n",
      "          'figure.hooks': [],\n",
      "          'figure.labelsize': 'large',\n",
      "          'figure.labelweight': 'normal',\n",
      "          'figure.max_open_warning': 20,\n",
      "          'figure.raise_window': True,\n",
      "          'figure.subplot.bottom': 0.11,\n",
      "          'figure.subplot.hspace': 0.2,\n",
      "          'figure.subplot.left': 0.125,\n",
      "          'figure.subplot.right': 0.9,\n",
      "          'figure.subplot.top': 0.88,\n",
      "          'figure.subplot.wspace': 0.2,\n",
      "          'figure.titlesize': 'large',\n",
      "          'figure.titleweight': 'normal',\n",
      "          'font.cursive': ['Apple Chancery',\n",
      "                           'Textile',\n",
      "                           'Zapf Chancery',\n",
      "                           'Sand',\n",
      "                           'Script MT',\n",
      "                           'Felipa',\n",
      "                           'Comic Neue',\n",
      "                           'Comic Sans MS',\n",
      "                           'cursive'],\n",
      "          'font.family': ['serif'],\n",
      "          'font.fantasy': ['Chicago',\n",
      "                           'Charcoal',\n",
      "                           'Impact',\n",
      "                           'Western',\n",
      "                           'xkcd script',\n",
      "                           'fantasy'],\n",
      "          'font.monospace': ['DejaVu Sans Mono',\n",
      "                             'Bitstream Vera Sans Mono',\n",
      "                             'Computer Modern Typewriter',\n",
      "                             'Andale Mono',\n",
      "                             'Nimbus Mono L',\n",
      "                             'Courier New',\n",
      "                             'Courier',\n",
      "                             'Fixed',\n",
      "                             'Terminal',\n",
      "                             'monospace'],\n",
      "          'font.sans-serif': ['DejaVu Sans',\n",
      "                              'Bitstream Vera Sans',\n",
      "                              'Computer Modern Sans Serif',\n",
      "                              'Lucida Grande',\n",
      "                              'Verdana',\n",
      "                              'Geneva',\n",
      "                              'Lucid',\n",
      "                              'Arial',\n",
      "                              'Helvetica',\n",
      "                              'Avant Garde',\n",
      "                              'sans-serif'],\n",
      "          'font.serif': ['DejaVu Serif',\n",
      "                         'Bitstream Vera Serif',\n",
      "                         'Computer Modern Roman',\n",
      "                         'New Century Schoolbook',\n",
      "                         'Century Schoolbook L',\n",
      "                         'Utopia',\n",
      "                         'ITC Bookman',\n",
      "                         'Bookman',\n",
      "                         'Nimbus Roman No9 L',\n",
      "                         'Times New Roman',\n",
      "                         'Times',\n",
      "                         'Palatino',\n",
      "                         'Charter',\n",
      "                         'serif'],\n",
      "          'font.size': 22.0,\n",
      "          'font.stretch': 'normal',\n",
      "          'font.style': 'normal',\n",
      "          'font.variant': 'normal',\n",
      "          'font.weight': 'bold',\n",
      "          'grid.alpha': 1.0,\n",
      "          'grid.color': '#b0b0b0',\n",
      "          'grid.linestyle': '-',\n",
      "          'grid.linewidth': 0.8,\n",
      "          'hatch.color': 'black',\n",
      "          'hatch.linewidth': 1.0,\n",
      "          'hist.bins': 10,\n",
      "          'image.aspect': 'equal',\n",
      "          'image.cmap': 'viridis',\n",
      "          'image.composite_image': True,\n",
      "          'image.interpolation': 'auto',\n",
      "          'image.interpolation_stage': 'auto',\n",
      "          'image.lut': 256,\n",
      "          'image.origin': 'upper',\n",
      "          'image.resample': True,\n",
      "          'interactive': False,\n",
      "          'keymap.back': ['left', 'c', 'backspace', 'MouseButton.BACK'],\n",
      "          'keymap.copy': ['ctrl+c', 'cmd+c'],\n",
      "          'keymap.forward': ['right', 'v', 'MouseButton.FORWARD'],\n",
      "          'keymap.fullscreen': ['f', 'ctrl+f'],\n",
      "          'keymap.grid': ['g'],\n",
      "          'keymap.grid_minor': ['G'],\n",
      "          'keymap.help': ['f1'],\n",
      "          'keymap.home': ['h', 'r', 'home'],\n",
      "          'keymap.pan': ['p'],\n",
      "          'keymap.quit': ['ctrl+w', 'cmd+w', 'q'],\n",
      "          'keymap.quit_all': [],\n",
      "          'keymap.save': ['s', 'ctrl+s'],\n",
      "          'keymap.xscale': ['k', 'L'],\n",
      "          'keymap.yscale': ['l'],\n",
      "          'keymap.zoom': ['o'],\n",
      "          'legend.borderaxespad': 0.5,\n",
      "          'legend.borderpad': 0.4,\n",
      "          'legend.columnspacing': 2.0,\n",
      "          'legend.edgecolor': '0.8',\n",
      "          'legend.facecolor': 'inherit',\n",
      "          'legend.fancybox': True,\n",
      "          'legend.fontsize': 'medium',\n",
      "          'legend.framealpha': 0.8,\n",
      "          'legend.frameon': True,\n",
      "          'legend.handleheight': 0.7,\n",
      "          'legend.handlelength': 2.0,\n",
      "          'legend.handletextpad': 0.8,\n",
      "          'legend.labelcolor': 'None',\n",
      "          'legend.labelspacing': 0.5,\n",
      "          'legend.loc': 'best',\n",
      "          'legend.markerscale': 1.0,\n",
      "          'legend.numpoints': 1,\n",
      "          'legend.scatterpoints': 1,\n",
      "          'legend.shadow': False,\n",
      "          'legend.title_fontsize': None,\n",
      "          'lines.antialiased': True,\n",
      "          'lines.color': 'C0',\n",
      "          'lines.dash_capstyle': <CapStyle.butt: 'butt'>,\n",
      "          'lines.dash_joinstyle': <JoinStyle.round: 'round'>,\n",
      "          'lines.dashdot_pattern': [6.4, 1.6, 1.0, 1.6],\n",
      "          'lines.dashed_pattern': [3.7, 1.6],\n",
      "          'lines.dotted_pattern': [1.0, 1.65],\n",
      "          'lines.linestyle': '-',\n",
      "          'lines.linewidth': 2.0,\n",
      "          'lines.marker': 'None',\n",
      "          'lines.markeredgecolor': 'auto',\n",
      "          'lines.markeredgewidth': 1.0,\n",
      "          'lines.markerfacecolor': 'auto',\n",
      "          'lines.markersize': 6.0,\n",
      "          'lines.scale_dashes': True,\n",
      "          'lines.solid_capstyle': <CapStyle.projecting: 'projecting'>,\n",
      "          'lines.solid_joinstyle': <JoinStyle.round: 'round'>,\n",
      "          'macosx.window_mode': 'system',\n",
      "          'markers.fillstyle': 'full',\n",
      "          'mathtext.bf': 'sans:bold',\n",
      "          'mathtext.bfit': 'sans:italic:bold',\n",
      "          'mathtext.cal': 'cursive',\n",
      "          'mathtext.default': 'it',\n",
      "          'mathtext.fallback': 'cm',\n",
      "          'mathtext.fontset': 'dejavusans',\n",
      "          'mathtext.it': 'sans:italic',\n",
      "          'mathtext.rm': 'sans',\n",
      "          'mathtext.sf': 'sans',\n",
      "          'mathtext.tt': 'monospace',\n",
      "          'patch.antialiased': True,\n",
      "          'patch.edgecolor': 'black',\n",
      "          'patch.facecolor': 'C0',\n",
      "          'patch.force_edgecolor': False,\n",
      "          'patch.linewidth': 1.0,\n",
      "          'path.effects': [],\n",
      "          'path.simplify': True,\n",
      "          'path.simplify_threshold': 0.111111111111,\n",
      "          'path.sketch': None,\n",
      "          'path.snap': True,\n",
      "          'pcolor.shading': 'auto',\n",
      "          'pcolormesh.snap': True,\n",
      "          'pdf.compression': 6,\n",
      "          'pdf.fonttype': 3,\n",
      "          'pdf.inheritcolor': False,\n",
      "          'pdf.use14corefonts': False,\n",
      "          'pgf.preamble': '',\n",
      "          'pgf.rcfonts': True,\n",
      "          'pgf.texsystem': 'xelatex',\n",
      "          'polaraxes.grid': True,\n",
      "          'ps.distiller.res': 6000,\n",
      "          'ps.fonttype': 3,\n",
      "          'ps.papersize': 'letter',\n",
      "          'ps.useafm': False,\n",
      "          'ps.usedistiller': None,\n",
      "          'savefig.bbox': None,\n",
      "          'savefig.directory': '~',\n",
      "          'savefig.dpi': 'figure',\n",
      "          'savefig.edgecolor': 'auto',\n",
      "          'savefig.facecolor': 'auto',\n",
      "          'savefig.format': 'png',\n",
      "          'savefig.orientation': 'portrait',\n",
      "          'savefig.pad_inches': 0.1,\n",
      "          'savefig.transparent': False,\n",
      "          'scatter.edgecolors': 'face',\n",
      "          'scatter.marker': 'o',\n",
      "          'svg.fonttype': 'path',\n",
      "          'svg.hashsalt': None,\n",
      "          'svg.id': None,\n",
      "          'svg.image_inline': True,\n",
      "          'text.antialiased': True,\n",
      "          'text.color': 'black',\n",
      "          'text.hinting': 'force_autohint',\n",
      "          'text.hinting_factor': 8,\n",
      "          'text.kerning_factor': 0,\n",
      "          'text.latex.preamble': '',\n",
      "          'text.parse_math': True,\n",
      "          'text.usetex': True,\n",
      "          'timezone': 'UTC',\n",
      "          'tk.window_focus': False,\n",
      "          'toolbar': 'toolbar2',\n",
      "          'webagg.address': '127.0.0.1',\n",
      "          'webagg.open_in_browser': True,\n",
      "          'webagg.port': 8988,\n",
      "          'webagg.port_retries': 50,\n",
      "          'xaxis.labellocation': 'center',\n",
      "          'xtick.alignment': 'center',\n",
      "          'xtick.bottom': True,\n",
      "          'xtick.color': 'black',\n",
      "          'xtick.direction': 'out',\n",
      "          'xtick.labelbottom': True,\n",
      "          'xtick.labelcolor': 'inherit',\n",
      "          'xtick.labelsize': 'medium',\n",
      "          'xtick.labeltop': False,\n",
      "          'xtick.major.bottom': True,\n",
      "          'xtick.major.pad': 3.5,\n",
      "          'xtick.major.size': 3.5,\n",
      "          'xtick.major.top': True,\n",
      "          'xtick.major.width': 0.8,\n",
      "          'xtick.minor.bottom': True,\n",
      "          'xtick.minor.ndivs': 'auto',\n",
      "          'xtick.minor.pad': 3.4,\n",
      "          'xtick.minor.size': 2.0,\n",
      "          'xtick.minor.top': True,\n",
      "          'xtick.minor.visible': False,\n",
      "          'xtick.minor.width': 0.6,\n",
      "          'xtick.top': False,\n",
      "          'yaxis.labellocation': 'center',\n",
      "          'ytick.alignment': 'center_baseline',\n",
      "          'ytick.color': 'black',\n",
      "          'ytick.direction': 'out',\n",
      "          'ytick.labelcolor': 'inherit',\n",
      "          'ytick.labelleft': True,\n",
      "          'ytick.labelright': False,\n",
      "          'ytick.labelsize': 'medium',\n",
      "          'ytick.left': True,\n",
      "          'ytick.major.left': True,\n",
      "          'ytick.major.pad': 3.5,\n",
      "          'ytick.major.right': True,\n",
      "          'ytick.major.size': 3.5,\n",
      "          'ytick.major.width': 0.8,\n",
      "          'ytick.minor.left': True,\n",
      "          'ytick.minor.ndivs': 'auto',\n",
      "          'ytick.minor.pad': 3.4,\n",
      "          'ytick.minor.right': True,\n",
      "          'ytick.minor.size': 2.0,\n",
      "          'ytick.minor.visible': False,\n",
      "          'ytick.minor.width': 0.6,\n",
      "          'ytick.right': False}))\n"
     ]
    }
   ],
   "source": [
    "# plot default parameters\n",
    "\n",
    "print(plt.rcParams.keys())  # gives all parameters \n",
    "\n",
    "def set_pub():\n",
    "    plt.rcParams.update({\n",
    "        \"font.size\": 20,        # font size\n",
    "        \"figure.figsize\":(9, 8),# figure size\n",
    "        \"lines.linewidth\": 2,\n",
    "        \"font.weight\": \"bold\",  # bold fonts\n",
    "        \"text.usetex\": True,\n",
    "        \"font.family\": 'serif'\n",
    "    })\n",
    "\n",
    "set_pub()\n",
    "\n"
   ]
  },
  {
   "cell_type": "markdown",
   "id": "1135aa7d",
   "metadata": {},
   "source": [
    "# Load the synthetic lensing data"
   ]
  },
  {
   "cell_type": "code",
   "execution_count": 1269,
   "id": "d7ce9d25",
   "metadata": {},
   "outputs": [],
   "source": [
    "# root1 = 'DATA/'\n",
    "    \n",
    "# infile = root1+'SIS_Shear_Data.v1.SMALL.dat'\n",
    "    \n",
    "# f = open(infile, 'r')\n",
    "# line = f.readline()\n",
    "# columns = line.split()\n",
    "# ngal=columns[0]\n",
    "# print(type(ngal))\n",
    "# ngal=int(columns[0])\n",
    "# print(type(ngal))"
   ]
  },
  {
   "cell_type": "code",
   "execution_count": 1270,
   "id": "442d5925",
   "metadata": {},
   "outputs": [],
   "source": [
    "# root1 = 'DATA/'\n",
    "    \n",
    "# infile = root1+'SIS_Shear_Data.v1.SMALL.dat'\n",
    "    \n",
    "# f = open(infile, 'r')\n",
    "# line = f.readline()\n",
    "# columns = line.split()\n",
    "# ngal=columns[0]\n",
    "# ngal=int(columns[0])\n"
   ]
  },
  {
   "cell_type": "code",
   "execution_count": 1271,
   "id": "584f0b2d",
   "metadata": {},
   "outputs": [],
   "source": [
    "# posx=np.zeros(ngal)\n",
    "# posy=np.zeros(ngal)\n",
    "\n",
    "# gam1_s=np.zeros(ngal)\n",
    "# gam2_s=np.zeros(ngal)\n",
    "\n",
    "# gam1_r=np.zeros(ngal)\n",
    "# gam2_r=np.zeros(ngal)\n",
    "\n",
    "# gam1_sr=np.zeros(ngal)\n",
    "# gam2_sr=np.zeros(ngal)\n",
    "\n",
    "# #e1_r=np.zeros(ngal)\n",
    "# #e2_r=np.zeros(ngal)\n",
    "# #e1_s=np.zeros(ngal)\n",
    "# #e2_s=np.zeros(ngal)\n",
    "# #e1_sr=np.zeros(ngal)\n",
    "# #e2_sr=np.zeros(ngal)\n",
    "\n",
    "# for i in range(ngal):\n",
    "#     line = f.readline()\n",
    "#     columns = line.split()\n",
    "#     posx[i] = columns[0]\n",
    "#     posy[i] = columns[1]\n",
    "#     gam1_s[i] = columns[2]\n",
    "#     gam2_s[i] = columns[3]\n",
    "#     gam1_r[i] = columns[4]\n",
    "#     gam2_r[i] = columns[5]\n",
    "#     gam1_sr[i] = columns[6]\n",
    "#     gam2_sr[i] = columns[7]\n",
    "    \n",
    "# print(type(posx))\n"
   ]
  },
  {
   "cell_type": "markdown",
   "id": "bc113616",
   "metadata": {},
   "source": [
    "### Code for the large data set"
   ]
  },
  {
   "cell_type": "code",
   "execution_count": 1272,
   "id": "7bc92d01",
   "metadata": {},
   "outputs": [
    {
     "name": "stdout",
     "output_type": "stream",
     "text": [
      "108000 0.3\n",
      "0.3 -1.0\n",
      "0.0037837622758070868 -0.0018739853809178779\n",
      "-0.008159744105015052 0.007020304309567618\n"
     ]
    }
   ],
   "source": [
    "class HeadStruct(Structure):\n",
    "    _fields_ = [('Ngal', c_longlong),\n",
    "                ('xL1', c_double),\n",
    "                ('yL1', c_double),\n",
    "                ('xL2', c_double),\n",
    "                ('yL2', c_double),\n",
    "                ('dummy1', c_double),\n",
    "                ('dummy2', c_double),\n",
    "                ('Ltheta1', c_double),\n",
    "                ('Ltheta2', c_double),\n",
    "                ('SurveyArea', c_double),\n",
    "                ('SourceDensity', c_double),\n",
    "                ('ShapeNoise', c_double),\n",
    "                ('dummy3', c_double),\n",
    "                ('dummy4', c_double),\n",
    "                ('z_l', c_double),\n",
    "                ('z_s', c_double),\n",
    "                ('z_o', c_double),\n",
    "                ('dummy5', c_double),\n",
    "                ('dummy6', c_double),\n",
    "                ('dummy7', c_double)]\n",
    "    \n",
    "class CosmoStruct(Structure):\n",
    "    _fields_ = [('om_m', c_double),\n",
    "                ('om_r', c_double),\n",
    "                ('om_b', c_double),\n",
    "                ('om_cdm', c_double),\n",
    "                ('om_nu', c_double),\n",
    "                ('om_de', c_double),\n",
    "                ('om_k', c_double),\n",
    "                ('w0', c_double),\n",
    "                ('wa', c_double),\n",
    "                ('H', c_double),\n",
    "                ('fbaryon', c_double),\n",
    "                ('fcdm', c_double)]    \n",
    "    \n",
    "    \n",
    "class GalLensStruct(Structure):\n",
    "    _fields_ = [('posx', c_double),\n",
    "                ('posy', c_double),\n",
    "                ('gam1_s', c_double),\n",
    "                ('gam2_s', c_double),\n",
    "                ('gam1_r', c_double),\n",
    "                ('gam2_r', c_double),\n",
    "                ('gam1_sr', c_double),\n",
    "                ('gam2_sr', c_double),\n",
    "                ('e1_s', c_double),\n",
    "                ('e2_s', c_double),\n",
    "                ('e1_r', c_double),\n",
    "                ('e2_r', c_double),\n",
    "                ('e1_sr', c_double),\n",
    "                ('e2_sr', c_double),\n",
    "                ('flag', c_int)]    \n",
    "\n",
    "                \n",
    "with open('DATA/SIS_Shear_Data.v1.dat', 'rb') as file:\n",
    "\n",
    "    head = HeadStruct()\n",
    "    file.readinto(head)\n",
    "\n",
    "    cp = CosmoStruct()\n",
    "    file.readinto(cp)\n",
    "    \n",
    "    GLens = []\n",
    "    for i in range(head.Ngal):\n",
    "        GLens.append(GalLensStruct())\n",
    "        file.readinto(GLens[i])\n",
    "    \n",
    "print(head.Ngal,head.z_l)\n",
    "print(cp.om_m,cp.w0)\n",
    "print(GLens[600].posx,GLens[600].posy)\n",
    "\n",
    "posx=np.zeros(head.Ngal)\n",
    "posy=np.zeros(head.Ngal)\n",
    "\n",
    "gam1_s=np.zeros(head.Ngal)\n",
    "gam2_s=np.zeros(head.Ngal)\n",
    "\n",
    "gam1_r=np.zeros(head.Ngal)\n",
    "gam2_r=np.zeros(head.Ngal)\n",
    "\n",
    "gam1_sr=np.zeros(head.Ngal)\n",
    "gam2_sr=np.zeros(head.Ngal)\n",
    "\n",
    "for i in range(head.Ngal):\n",
    "    posx[i]    = GLens[i].posx\n",
    "    posy[i]    = GLens[i].posy\n",
    "    gam1_s[i]  = GLens[i].gam1_s\n",
    "    gam2_s[i]  = GLens[i].gam1_s\n",
    "    gam1_r[i]  = GLens[i].gam1_r\n",
    "    gam2_r[i]  = GLens[i].gam2_r\n",
    "    gam1_sr[i] = GLens[i].gam1_sr\n",
    "    gam2_sr[i] = GLens[i].gam2_sr\n",
    "\n",
    "print(posx[800],posy[800])\n"
   ]
  },
  {
   "cell_type": "markdown",
   "id": "dbb48905",
   "metadata": {},
   "source": [
    "# My Code "
   ]
  },
  {
   "cell_type": "markdown",
   "id": "17f05ff4",
   "metadata": {},
   "source": [
    "### Description of variables"
   ]
  },
  {
   "cell_type": "code",
   "execution_count": 1273,
   "id": "d08080cd",
   "metadata": {},
   "outputs": [
    {
     "data": {
      "text/plain": [
       "'\\n   theta : 2d vector \\n      Theta is our 2d position for the lens plane in radians\\n\\n   eta : 2d vector\\n      Eta is our 2d position for the lens plane in real distances\\n'"
      ]
     },
     "execution_count": 1273,
     "metadata": {},
     "output_type": "execute_result"
    }
   ],
   "source": [
    "\"\"\"\n",
    "   theta : 2d vector \n",
    "      Theta is our 2d position for the lens plane in radians\n",
    "\n",
    "   eta : 2d vector\n",
    "      Eta is our 2d position for the lens plane in real distances\n",
    "\"\"\""
   ]
  },
  {
   "cell_type": "markdown",
   "id": "2f5af43f",
   "metadata": {},
   "source": [
    "### Todo"
   ]
  },
  {
   "cell_type": "markdown",
   "id": "fe3608b0",
   "metadata": {},
   "source": [
    "- [*] Error Bars on plot\n",
    "- [*] Fit the plot\n",
    "- [*] Write function that calculate D_d, D_s and D_ds given some redshift\n",
    "- [*] Sigma_Vˆ2\n",
    "- [-] 3 plots for each pure, noise, pure and noise\n",
    "- [*] Surface Mass Density Function \n",
    "- [*] Calcuate Sigma Crit\n",
    "- [*] Add Error Bars to all plots\n",
    "- [*] Add the functionality to remove empty bins to all shear calc functions\n",
    "- [ ] Error on Sigma_V^2\n",
    "- [ ] Error on Mass"
   ]
  },
  {
   "cell_type": "markdown",
   "id": "d605b05c",
   "metadata": {},
   "source": [
    "### Calculate Lenspack Tangential and Cross Shear"
   ]
  },
  {
   "cell_type": "code",
   "execution_count": 1274,
   "id": "3a72f801",
   "metadata": {},
   "outputs": [],
   "source": [
    "gam_t_s_LP, gam_x_s_LP=lp.shear.gamma_tx(posx,posy,gam1_s,gam2_s)       # Calculates the tangetial shear for the pure signal\n",
    "gam_t_r_LP, gam_x_r_LP=lp.shear.gamma_tx(posx,posy,gam1_r,gam2_r)       #                                     .. pure random (pure noise)\n",
    "gam_t_sr_LP, gam_x_sr_LP=lp.shear.gamma_tx(posx,posy,gam1_sr,gam2_sr)   #                                     .. signal and noise\n"
   ]
  },
  {
   "cell_type": "markdown",
   "id": "3a269cfe",
   "metadata": {},
   "source": [
    "### Define theta"
   ]
  },
  {
   "cell_type": "code",
   "execution_count": 1275,
   "id": "3a6c9ce2",
   "metadata": {},
   "outputs": [],
   "source": [
    "# Defines our angular position vector theta\n",
    "theta = np.column_stack((posx, posy))"
   ]
  },
  {
   "cell_type": "markdown",
   "id": "f53e92d3",
   "metadata": {},
   "source": [
    "## Define Functions"
   ]
  },
  {
   "cell_type": "markdown",
   "id": "3f9b1cd1",
   "metadata": {},
   "source": [
    "#### Shear Calculation Functions"
   ]
  },
  {
   "cell_type": "code",
   "execution_count": 1276,
   "id": "83964047",
   "metadata": {},
   "outputs": [],
   "source": [
    "def Shear(theta, gamma1, gamma2):\n",
    "    \"\"\"\n",
    "    Calculates both the cross and tangential shear for each position.\n",
    "\n",
    "    gamma_t = -Re[gamma * exp(-2i * phi)]\n",
    "    gamma_x = -Im[gamma * exp(-2i * phi)]\n",
    "\n",
    "\n",
    "    Paramaters: \n",
    "        theta : 2d float array\n",
    "            Theta is the angular position of each star. [x, y] \n",
    "    \n",
    "        gamma1 : float\n",
    "            shear in the x direction\n",
    "\n",
    "        gamma2 : float\n",
    "            shear in the y direction\n",
    "\n",
    "    Returns: \n",
    "        gamma_t : float array\n",
    "            Tangential Shear values\n",
    "\n",
    "        gamma_x : float array\n",
    "            Cross Shear values\n",
    "    \"\"\"\n",
    "\n",
    "    gamma_t = []\n",
    "    gamma_x = []\n",
    "    \n",
    "    for i in range(len(posx)):\n",
    "\n",
    "        mag_theta = np.sqrt(np.square(theta[i][0]) + np.square(theta[i][1]))\n",
    "        \n",
    "        gamma = gamma1[i] + 1j * gamma2[i]\n",
    "        \n",
    "        if theta[i][1] >= 0:\n",
    "            phi = np.arccos(posx[i] / mag_theta)\n",
    "\n",
    "        else:\n",
    "            phi = - np.arccos(posx[i] / mag_theta)      \n",
    "\n",
    "        gamma_t.append(\n",
    "            - np.real(gamma * np.exp(-2j * phi))\n",
    "            )\n",
    "        gamma_x.append(\n",
    "            - np.imag(gamma * np.exp(-2j * phi))\n",
    "        )\n",
    "\n",
    "    return gamma_t, gamma_x \n",
    "        \n",
    "\n"
   ]
  },
  {
   "cell_type": "code",
   "execution_count": 1277,
   "id": "2c6ebcda",
   "metadata": {},
   "outputs": [],
   "source": [
    "def TangentialShearRingAverage(theta_array, gamma_t, signal_type):\n",
    "    \"\"\"\n",
    "    Calculate the Ring Average of the Tangential Shear. \n",
    "\n",
    "    Paramaters: \n",
    "        theta_array : float\n",
    "            Array of radial components of the position\n",
    "\n",
    "        gamma_t : float\n",
    "            Array of tangential shears  \n",
    "\n",
    "        signal_type : string\n",
    "            allows us to calculate the errors differently for a pure, noise, and noise + pure signal\n",
    "\n",
    "    Returns: \n",
    "        bin_centres : float     \n",
    "            This is the radial component of the position for which the ring average (bin_average) is calculated for\n",
    "\n",
    "        bin_averages : float\n",
    "            Ring average for the bin\n",
    "    \"\"\"\n",
    "\n",
    "    bin_centres, bin_averages, bin_errors = RadialBinningMethod(theta_array, gamma_t, signal_type)\n",
    "\n",
    "    bin_centres, bin_averages, bin_errors = RemoveEmptyBins(bin_centres, bin_averages, bin_errors)\n",
    "\n",
    "    return [bin_centres, bin_averages, bin_errors]\n"
   ]
  },
  {
   "cell_type": "code",
   "execution_count": 1278,
   "id": "63c52dbc",
   "metadata": {},
   "outputs": [],
   "source": [
    "def KappaRingAverage(theta, einstien_limit, signal_type):\n",
    "    \"\"\"\n",
    "    Calculate Kappa - the convergence.\n",
    "    \n",
    "    Paramaters: \n",
    "        theta : float array\n",
    "            Is the magnitude position from the origin in radians        \n",
    "\n",
    "        einstien_limit : float\n",
    "            Einstien Limit\n",
    "    \n",
    "    Returns:\n",
    "        kappa : float array \n",
    "            array of kappa values for theta values\n",
    "    \"\"\"\n",
    "    einstien_limit_  = np.ones((len(theta)))\n",
    "    einstien_limit_ *= einstien_limit\n",
    "\n",
    "    kappa = einstien_limit_ / (2 * theta)\n",
    "    \n",
    "\n",
    "    bin_centres, bin_averages, bin_errors = RadialBinningMethod(theta, kappa, signal_type)\n",
    "\n",
    "    bin_centres, bin_averages, bin_errors = RemoveEmptyBins(bin_centres, bin_averages, bin_errors)\n",
    "\n",
    "    return [bin_centres, bin_averages, bin_errors]\n",
    "\n"
   ]
  },
  {
   "cell_type": "code",
   "execution_count": 1279,
   "id": "98a10a7a",
   "metadata": {},
   "outputs": [],
   "source": [
    "def Kappa(theta, einstein_limit, einstein_limit_err):\n",
    "    \"\"\"\n",
    "    Calculate Kappa - the convergence.\n",
    "    \n",
    "    Paramaters: \n",
    "        theta : float array\n",
    "            Is the magnitude position from the origin in radians        \n",
    "\n",
    "        einstein_limit : float\n",
    "            Einstein Limit\n",
    "    \n",
    "    Returns:\n",
    "        kappa : float array \n",
    "            array of kappa values for theta values\n",
    "    \"\"\"\n",
    "    \n",
    "    einstein_limit_  = np.ones((len(theta)))\n",
    "    einstein_limit_ *= einstein_limit\n",
    "\n",
    "    kappa = einstein_limit_ / (2 * theta)\n",
    "\n",
    "    kappa_err = np.ones((len(theta)))/(2*theta) * einstein_limit_err\n",
    "\n",
    "    return [theta, kappa, kappa_err]"
   ]
  },
  {
   "cell_type": "code",
   "execution_count": 1280,
   "id": "712182b9",
   "metadata": {},
   "outputs": [],
   "source": [
    "def KappaBar(theta, einstien_limit, signal_type):\n",
    "    \"\"\"\n",
    "    Calculates Kappa Bar.\n",
    "    \n",
    "    Paramaters: \n",
    "        theta : vector2 array\n",
    "            Is our position vector from the origin in radians        \n",
    "\n",
    "        einstien_limit : float\n",
    "            Einstien Limit\n",
    "    \n",
    "    Returns:\n",
    "        kappa_bar : float array \n",
    "            array of kappa_bar values for theta values\n",
    "    \"\"\"\n",
    "\n",
    "    einstien_limit_  = np.ones((len(theta)))\n",
    "    einstien_limit_ *= einstien_limit\n",
    "\n",
    "    kappa_bar = einstien_limit_ / theta\n",
    "\n",
    "\n",
    "    bin_centres, bin_averages, bin_errors = RadialBinningMethod(theta, kappa_bar, signal_type)\n",
    "\n",
    "    bin_centres, bin_averages, bin_errors = RemoveEmptyBins(bin_centres, bin_averages, bin_errors)\n",
    "\n",
    "    return [bin_centres, bin_averages, bin_errors]\n"
   ]
  },
  {
   "cell_type": "markdown",
   "id": "b54a9743",
   "metadata": {},
   "source": [
    "#### Binning Functions"
   ]
  },
  {
   "cell_type": "code",
   "execution_count": 1281,
   "id": "739a1829",
   "metadata": {},
   "outputs": [],
   "source": [
    "def RadialBinningMethod(theta, y, signal_type, Nbins=16):\n",
    "    bin_starts, bin_centres, bins, bin_averages, delta_theta = CreateLogScaleBins(theta, Nbins)\n",
    "    print(len(bin_starts))\n",
    "    bin_errors = np.array([])\n",
    "\n",
    "    for i_bin in range(len(bin_starts)):\n",
    "        values = np.array(BinValues(theta, delta_theta[i_bin], y, bin_starts[i_bin]))\n",
    "        print(len(values))\n",
    "        bins = np.append(bins, values)\n",
    "        average = np.average(values)\n",
    "        bin_averages = np.append(bin_averages, average)\n",
    "        bin_errors = np.append(bin_errors, BinErrors(average, len(values), signal_type)) \n",
    "\n",
    "    bin_centres, bin_averages, bin_errors = RemoveEmptyBins(bin_centres, bin_averages, bin_errors)\n",
    "\n",
    "    return bin_centres, bin_averages, bin_errors"
   ]
  },
  {
   "cell_type": "code",
   "execution_count": 1282,
   "id": "abebc234",
   "metadata": {},
   "outputs": [],
   "source": [
    "def CreateLogScaleBins(theta, Nbins):\n",
    "    \"\"\"\n",
    "    Creates the bins for plotting the data. \n",
    "\n",
    "\n",
    "    Paramaters: \n",
    "        theta : float array\n",
    "            Array of radial distances from the origin for each galaxy. Measured in anglar units\n",
    "\n",
    "        Nbins : int\n",
    "            Number of bins\n",
    "            \n",
    "    Returns: \n",
    "        bin_starts : array\n",
    "        \n",
    "        bin_centres : array\n",
    "\n",
    "        bins : 2d array \n",
    "            Array of values that are in each bin\n",
    "\n",
    "        bin_averages : array\n",
    "    \"\"\"\n",
    "\n",
    "    min_theta = np.log(min(theta))\n",
    "    max_theta = np.log(max(theta))\n",
    "\n",
    "    delta_theta = (max_theta - min_theta) / (Nbins - 1)\n",
    "\n",
    "    bin_starts =  np.arange(min_theta - delta_theta / 2, max_theta + delta_theta / 2, delta_theta)\n",
    "    bin_centres = bin_starts + delta_theta / 2\n",
    "\n",
    "    bin_starts = np.exp(bin_starts)\n",
    "    bin_centres = np.exp(bin_centres)\n",
    "    \n",
    "    # Calculate delta_theta for each bin in linear scales \n",
    "    delta_theta = 2*(bin_centres - bin_starts)\n",
    "\n",
    "    bins = np.array([[]])\n",
    "    bin_averages = np.array([])\n",
    "\n",
    "    return bin_starts, bin_centres, bins, bin_averages, delta_theta"
   ]
  },
  {
   "cell_type": "code",
   "execution_count": 1283,
   "id": "2456c1cb",
   "metadata": {},
   "outputs": [],
   "source": [
    "def BinValues(theta_array, delta_theta, gamma_t, bin_start):\n",
    "    values = np.array([])\n",
    "\n",
    "    for i in range(len(theta_array)):\n",
    "        # Check if the gamma value is for a position that falls within the shell\n",
    "        \n",
    "        if theta_array[i] >= bin_start and theta_array[i] < bin_start + delta_theta:\n",
    "            values = np.append(values, gamma_t[i])\n",
    "    \n",
    "    return values"
   ]
  },
  {
   "cell_type": "code",
   "execution_count": 1284,
   "id": "51686fb2",
   "metadata": {},
   "outputs": [],
   "source": [
    "def BinErrors(bin_average, N, signal_type):\n",
    "    # The error are the standard deviation / the number of values in the bin\n",
    "    sigma_tangential_elipticity = 0.16\n",
    "\n",
    "    # If nothing in bin then bin has no error\n",
    "    if N == 0:\n",
    "        return 0\n",
    "    \n",
    "    pure_error = bin_average / np.sqrt(N)\n",
    "    noise_error = sigma_tangential_elipticity / np.sqrt(N)\n",
    "\n",
    "    if signal_type == \"pure\":\n",
    "        return pure_error\n",
    "    \n",
    "    elif signal_type == \"noise\":\n",
    "        return noise_error\n",
    "\n",
    "    else: # noise + pure\n",
    "        return np.sqrt(pure_error**2 + noise_error**2)\n",
    "      \n"
   ]
  },
  {
   "cell_type": "code",
   "execution_count": 1285,
   "id": "d8f735ca",
   "metadata": {},
   "outputs": [],
   "source": [
    "def RemoveEmptyBins(bin_centres, bin_averages, bin_errors):\n",
    "    del_indexs = []\n",
    "\n",
    "    for i in range(len(bin_centres)):\n",
    "        if bin_errors[i] == 0 or bin_errors[i] == np.inf or bin_averages[i] == 0:\n",
    "            del_indexs.append(i)\n",
    "\n",
    "    bin_centres   = np.delete(bin_centres, del_indexs)\n",
    "    bin_averages  = np.delete(bin_averages, del_indexs)\n",
    "    bin_errors    = np.delete(bin_errors, del_indexs)\n",
    "    \n",
    "    return bin_centres, bin_averages, bin_errors"
   ]
  },
  {
   "cell_type": "markdown",
   "id": "17f9f120",
   "metadata": {},
   "source": [
    "#### Plotting Functions"
   ]
  },
  {
   "cell_type": "code",
   "execution_count": 1286,
   "id": "a823885a",
   "metadata": {},
   "outputs": [],
   "source": [
    "plt.rcParams['font.size'] = 22\n",
    "plt.rcParams['figure.figsize'] = [9.6, 7.2]"
   ]
  },
  {
   "cell_type": "code",
   "execution_count": 1287,
   "id": "27a8f4b0",
   "metadata": {},
   "outputs": [],
   "source": [
    "def RelativeErrorClipping(something, relative_error_threshold=0.8):\n",
    "    \"\"\"\n",
    "    Rejects and points with a relative error > relative_error_threshold\n",
    "\n",
    "    Parameters: \n",
    "        something : 3 dimensional array\n",
    "            Includes all the information of the data we are trying to plot. something = [something_x, something_y, something_error].\n",
    "\n",
    "        relative_error_threshold: float\n",
    "            The relative error we should clip at. Default 0.8\n",
    "\n",
    "    Returns:\n",
    "        something : 3 dimensional array \n",
    "            new something array with points removed\n",
    "\n",
    "        points_big_error : 3 dimensional array\n",
    "            Array of data including the points that have been clipped.      \n",
    "    \"\"\"\n",
    "\n",
    "    mask = np.array((something[2] / something[1]) < relative_error_threshold)\n",
    "    points_big_error = np.array([something[0][~mask], something[1][~mask], something[2][~mask]])\n",
    "    something = np.array([something[0][mask], something[1][mask], something[2][mask]])\n",
    "\n",
    "    return something, points_big_error"
   ]
  },
  {
   "cell_type": "code",
   "execution_count": 1288,
   "id": "56804fca",
   "metadata": {},
   "outputs": [],
   "source": [
    "def ResidualClipping(something, a0, a1):\n",
    "    \"\"\"\n",
    "    Rejects and points with a large residuals\n",
    "\n",
    "    Parameters: \n",
    "        something : 3 dimensional array\n",
    "            Includes all the information of the data we are trying to plot. something = [something_x, something_y, something_error].\n",
    "\n",
    "        a0 : float\n",
    "            y-intercept from the fit\n",
    "\n",
    "        a1 : float\n",
    "            gradient from the fit\n",
    "\n",
    "    Returns:\n",
    "        something : 3 dimensional array \n",
    "            new something array with points removed\n",
    "\n",
    "        points_big_res : 3 dimensional array\n",
    "            Array of data including the points that have been removed.      \n",
    "    \"\"\"\n",
    "\n",
    "    res = np.array(something[1] - LinSpaceModel(np.log(something[0]), a1, a0))\n",
    "\n",
    "    # Reject points with residuals > 3 * error (hexagon)\n",
    "    mask = np.array(np.abs(res) < 3 * something[2])\n",
    "    points_big_res = np.array([something[0][~mask], something[1][~mask], something[2][~mask]])\n",
    "    something      = np.array([something[0][mask], something[1][mask], something[2][mask]])\n",
    "\n",
    "    return something, points_big_res"
   ]
  },
  {
   "cell_type": "code",
   "execution_count": 1289,
   "id": "7162d55d",
   "metadata": {},
   "outputs": [],
   "source": [
    "def DataSanitisation(something):\n",
    "    remove_list = []\n",
    "    \n",
    "    # Remove any values with a theta value of above threshold\n",
    "    for i in range(len(something[1])):\n",
    "        if something[0][i] > 0.002 or something[1][i] <= 0:\n",
    "            remove_list.append(i)\n",
    "\n",
    "    something[0] = np.delete(something[0], remove_list)\n",
    "    something[1] = np.delete(something[1], remove_list)\n",
    "    something[2] = np.delete(something[2], remove_list)\n",
    "\n",
    "    return something"
   ]
  },
  {
   "cell_type": "code",
   "execution_count": 1290,
   "id": "fec159c7",
   "metadata": {},
   "outputs": [],
   "source": [
    "def PlottingFunction(something, title, xlabel, ylabel, colour, label):\n",
    "    \"\"\"\n",
    "    Plots the data something in log-log scale with relative error clipping, residual clipping, and chi_squared fitting. Then output the plot parameters \n",
    "    using print. Plots the data with error bars and the rejected points doesn't display the plot. Uses hexigons for relative error clipped points, diamonds\n",
    "    for residual clipped points and circles for the included points\n",
    "\n",
    "    Parameters:\n",
    "        something : 3 dimensional array\n",
    "            Includes all the information of the data we are trying to plot. something = [something_x, something_y, something_error].\n",
    "\n",
    "        title : string\n",
    "            The title of the plot.\n",
    "\n",
    "        xlabel : string\n",
    "            X label of the plot\n",
    "\n",
    "        ylabel :string \n",
    "            Y label of the plot\n",
    "\n",
    "        colour : string\n",
    "            colour of points and fit for the plot\n",
    "\n",
    "        label : string\n",
    "            label of the plot. Useful when plotting multiple thing on the plot.\n",
    "    \"\"\"\n",
    "\n",
    "\n",
    "    # Only fit the data if it isn't the noise plot\n",
    "    if (label != \"tangential_shear_ring_average_noise\"):\n",
    "        # Defines the fixed gradient of -1\n",
    "        a1 = -1\n",
    "        Var_a1 = 0\n",
    "\n",
    "        # Removes any unwanted data\n",
    "        something = np.array(DataSanitisation(something))\n",
    "\n",
    "        # Reject points with relative error > 50% (diamond)\n",
    "        something, points_big_error = RelativeErrorClipping(something)\n",
    "\n",
    "        # Calculate the fit paramaters for a linear fit in log space\n",
    "        a0 = FixedGradientFit(np.log(something[0]), np.log(something[1]), something[2] / something[1])\n",
    "\n",
    "        # Calculate Residuals\n",
    "        something, points_big_res = ResidualClipping(something, a0, a1)\n",
    "\n",
    "        # Refit the data\n",
    "        a0 = FixedGradientFit(np.log(something[0]), np.log(something[1]), something[2] / something[1])\n",
    "\n",
    "        # y values from the model\n",
    "        y_model = LinSpaceModel(np.log(something[0]), a1, a0)\n",
    "\n",
    "        # Calculate the errors in the y-intercept and gradient estimates\n",
    "        Var_a0 = FixedSlopeInterceptError(np.log(something[0]), something[2] / something[1], a1)\n",
    "        \n",
    "        # Adds units to the gradient (per radian)\n",
    "        a1 *= u.rad**-1\n",
    "        \n",
    "        # Output the y-intercept a0 and gradient a1 fitting parameters\n",
    "        print(\"a0:= %10.7f ; Err_a0 := %10.7f\"%(a0,np.sqrt(Var_a0)))\n",
    "        print(\"a1:= %10.7f %10s ; Err_a1 := %10.7f %10s\"%(a1.value, a1.unit, np.sqrt(Var_a1), a1.unit))\n",
    "\n",
    "        # Calculate reduced chi_sqaured\n",
    "        dof = len(something[0])\n",
    "        chisqA = ReducedChiSquared(np.log(something[0]), np.log(something[1]), something[2] / something[1], LogSpaceModel, a1.value, a0, dof)\n",
    "\n",
    "        # Output the reduced chi_squared for the fit\n",
    "        print(\"Reduced Chisquare for model A:= %14.7f, number of degrees of freedom:= %3d\"%(chisqA,dof))\n",
    "\n",
    "        # Plot the fit\n",
    "        plt.plot(something[0], y_model, color=colour)\n",
    "\n",
    "        # Add removed points\n",
    "        if len(points_big_res) != 0:\n",
    "            plt.errorbar(points_big_res[0], points_big_res[1], yerr=points_big_res[2], fmt = f\"{colour}h\")\n",
    "        \n",
    "        if len(points_big_error) != 0:\n",
    "            plt.errorbar(points_big_error[0], points_big_error[1], yerr=points_big_error[2], fmt = f\"{colour}D\")\n",
    "\n",
    "\n",
    "    # If it is the noise plot then set plotting parameters to 0\n",
    "    else:\n",
    "        a0 = 0\n",
    "        a1 = 0\n",
    "        Var_a0 = 0\n",
    "        Var_a1 = 0\n",
    "\n",
    "    plt.errorbar(something[0], something[1], yerr=something[2], fmt = f\"{colour}.\", label=label)\n",
    "\n",
    "    # plt.title(title)\n",
    "    plt.xlabel(xlabel)\n",
    "    plt.ylabel(ylabel)\n",
    "    \n",
    "    plt.xscale(\"log\")\n",
    "    plt.yscale(\"log\")\n",
    "\n",
    "    # plt.legend()\n",
    "\n",
    "    if (label != \"tangential_shear_ring_average_noise\" and label != \"kappa_ring_average\" and label != \"kappa_bar\" and label != \"Kappa_Ring_Average - Kappa_Bar vs Theta (Pure)\"):\n",
    "        plt.show()\n",
    "        # Residual Plot\n",
    "        ResidualPlot(something, points_big_error, points_big_res, a1, a0, label)\n",
    "\n",
    "    return a0, a1, np.sqrt(Var_a0), np.sqrt(Var_a1)\n"
   ]
  },
  {
   "cell_type": "code",
   "execution_count": 1291,
   "id": "9414dd93",
   "metadata": {},
   "outputs": [],
   "source": [
    "def ResidualPlot(something, points_big_error, points_big_res, a1, a0, label):\n",
    "    y_model_inc        = LinSpaceModel(np.log(something[0]), a1.value, a0)\n",
    "    y_model_big_error  = LinSpaceModel(np.log(points_big_error[0]), a1.value, a0)\n",
    "    y_model_big_res    = LinSpaceModel(np.log(points_big_res[0]), a1.value, a0)\n",
    "\n",
    "    # Calculate weighted residuals\n",
    "    weighted_residuals_inc =       (something[1] - y_model_inc) / something[2]\n",
    "    weighted_residuals_big_error = (points_big_error[1] - y_model_big_error) / points_big_error[2]\n",
    "    weighted_residuals_big_res =   (points_big_res[1] - y_model_big_res) / points_big_res[2]\n",
    "\n",
    "    # Plot residuals\n",
    "    # Included points\n",
    "    plt.scatter(something[0], weighted_residuals_inc)\n",
    "\n",
    "    # Non included points\n",
    "    plt.scatter(points_big_error[0], weighted_residuals_big_error, marker=\"D\")\n",
    "    plt.scatter(points_big_res[0], weighted_residuals_big_res, marker=\"h\")\n",
    "    \n",
    "    # Plot styling\n",
    "    plt.axhline(0, color='red', linestyle='--')\n",
    "    plt.xlabel('Predicted Values')\n",
    "    plt.ylabel('Residuals')\n",
    "    plt.xscale(\"log\")\n",
    "    plt.show()\n",
    "    return"
   ]
  },
  {
   "cell_type": "markdown",
   "id": "2363c8b6",
   "metadata": {},
   "source": [
    "#### Functions for Fitting Log Space Linear Fits"
   ]
  },
  {
   "cell_type": "code",
   "execution_count": 1292,
   "id": "78b43022",
   "metadata": {},
   "outputs": [],
   "source": [
    "def LinSpaceModel(x, m, c):\n",
    "    return np.exp(m*x + c)"
   ]
  },
  {
   "cell_type": "code",
   "execution_count": 1293,
   "id": "da31d238",
   "metadata": {},
   "outputs": [],
   "source": [
    "def FixedGradientFit(x, y, sig, fixed_slope=-1):\n",
    "    \"\"\"\n",
    "    Performs a linear fit with a fixed slope.\n",
    "\n",
    "    Parameters:\n",
    "    x : array\n",
    "        x-values\n",
    "    y : array\n",
    "        y-values\n",
    "    sig : array\n",
    "        y-error bars\n",
    "    fixed_slope : float\n",
    "        Slope to fix during the fitting process (default = -1)\n",
    "\n",
    "    Returns:\n",
    "    a0_est : float\n",
    "        Estimated intercept for the fixed slope fit\n",
    "    \"\"\"\n",
    "    sig2 = sig**2\n",
    "    residuals = y - fixed_slope * x\n",
    "    weights = 1 / sig2\n",
    "    a0_est = np.sum(residuals * weights) / np.sum(weights)\n",
    "    return a0_est"
   ]
  },
  {
   "cell_type": "code",
   "execution_count": 1294,
   "id": "c277ea8a",
   "metadata": {},
   "outputs": [],
   "source": [
    "def LogSpaceModel(log_x, m, c):\n",
    "    return m * log_x + c"
   ]
  },
  {
   "cell_type": "code",
   "execution_count": 1295,
   "id": "3f5d6009",
   "metadata": {},
   "outputs": [],
   "source": [
    "def ParamEstimates(x,y,sig):\n",
    "    \"\"\" \n",
    "    IN:\n",
    "    x -- xvalues\n",
    "    y -- noisy yvalues\n",
    "    sig -- error bars in y-direction\n",
    "\n",
    "    OUT:\n",
    "    a0, a1 -- linear model parameters \n",
    "    \"\"\"\n",
    "\n",
    "    sig2 = sig**2\n",
    "    S  = np.sum(1.0/sig2)\n",
    "    Sx = np.sum(x/sig2)\n",
    "    Sy = np.sum(y/sig2)\n",
    "    Sxx = np.sum(x**2/sig2)\n",
    "    Sxy = np.sum(x*y/sig2)\n",
    "    Delta = S*Sxx - Sx**2\n",
    "    a0_est = (Sy * Sxx-Sx * Sxy)/Delta\n",
    "    a1_est = (Sxy * S-Sx * Sy)/Delta\n",
    "    \n",
    "    return a0_est,a1_est"
   ]
  },
  {
   "cell_type": "code",
   "execution_count": 1296,
   "id": "2fff93c3",
   "metadata": {},
   "outputs": [],
   "source": [
    "def ParamEstimatesErrors(x,sig):\n",
    "    \"\"\" \n",
    "    IN:\n",
    "    x -- xvalues\n",
    "    sig -- error bars in y-direction\n",
    "\n",
    "    OUT:\n",
    "    Var_a0, Var_a1, Covar, r \n",
    "    \"\"\"\n",
    "    \n",
    "    sig2 = sig**2\n",
    "    S  = np.sum(1.0/sig2)\n",
    "    Sx = np.sum(x/sig2)\n",
    "    Sxx = np.sum(x**2/sig2)\n",
    "    Delta = S*Sxx - Sx**2\n",
    "\n",
    "    Var_a0 = Sxx/Delta\n",
    "    Var_a1 = S/Delta\n",
    "    Covar = -Sx/Delta\n",
    "    r = -Sx/np.sqrt(Sxx*S)\n",
    "    return Var_a0, Var_a1, Covar, r"
   ]
  },
  {
   "cell_type": "code",
   "execution_count": 1297,
   "id": "60653210",
   "metadata": {},
   "outputs": [],
   "source": [
    "def FixedSlopeInterceptError(x, sig, m):\n",
    "    \"\"\"\n",
    "    Computes the variance of the intercept for a fixed-slope linear fit.\n",
    "\n",
    "    Parameters:\n",
    "    x : array\n",
    "        x-values\n",
    "    sig : array\n",
    "        y-error bars\n",
    "    m : int\n",
    "        gradient\n",
    "\n",
    "    Returns:\n",
    "    Var_a0 : float\n",
    "        Variance of the intercept\n",
    "    \"\"\"\n",
    "    sig2 = sig**2\n",
    "    W = 1.0 / sig2\n",
    "    S = np.sum(W)\n",
    "    Sx = np.sum(x * W)\n",
    "\n",
    "    # Effective variance of intercept (a0)\n",
    "    Var_a0 = np.sum(W * (1 + m * x)**2) / S**2\n",
    "\n",
    "    return Var_a0"
   ]
  },
  {
   "cell_type": "code",
   "execution_count": 1298,
   "id": "6fc4a094",
   "metadata": {},
   "outputs": [],
   "source": [
    "def ReducedChiSquared(x, y, sig, ymodel, m, c, dof):\n",
    "    \"\"\" \n",
    "    Parameters:\n",
    "        x : array\n",
    "            x values.\n",
    "\n",
    "        y : array\n",
    "            y values.\n",
    "\n",
    "        sig : array\n",
    "            Errors.\n",
    "\n",
    "        ymodel : func\n",
    "            theoretical model\n",
    "\n",
    "        m : float\n",
    "            Gradient of fit\n",
    "        \n",
    "        c : float\n",
    "            Intercept of fit\n",
    "\n",
    "        dof : int\n",
    "            Number of degrees of freedom.\n",
    "\n",
    "    Returns:\n",
    "        redChiSq : float\n",
    "            The reduced chi-squared of the fit.\n",
    "    \"\"\"\n",
    "    \n",
    "    ytheory = ymodel(x, m, c)\n",
    "    ZZ = (y-ytheory)/sig\n",
    "    ZZSq = ZZ**2    \n",
    "    chiSq = np.sum(ZZSq)\n",
    "    redChiSq = chiSq / dof\n",
    "    return redChiSq"
   ]
  },
  {
   "cell_type": "markdown",
   "id": "a9a8fb0e",
   "metadata": {},
   "source": [
    "#### Other"
   ]
  },
  {
   "cell_type": "code",
   "execution_count": 1299,
   "id": "b304a828",
   "metadata": {},
   "outputs": [],
   "source": [
    "def SurfaceMassDensity(theta, A, D_d):\n",
    "    \"\"\"\n",
    "    Calculate the Surface Mass Density. Denoted by Sigma\n",
    "\n",
    "    Parameters:\n",
    "        theta : 2d vector of floats\n",
    "            Is our position vector from the origin in radians\n",
    "\n",
    "        A : float\n",
    "            Some constant define as sigma_v^2 / 2pi * G\n",
    "\n",
    "        D_d : float\n",
    "            Distance to the lens plane\n",
    "    \n",
    "    Returns:\n",
    "        Sigma : array of floats\n",
    "            Surface Mass Density for each theta value\n",
    "    \"\"\"\n",
    "    \n",
    "    # Defines eta as the radial part of theta\n",
    "    eta = theta * D_d\n",
    "\n",
    "    return (A / eta ) * np.pi"
   ]
  },
  {
   "cell_type": "code",
   "execution_count": 1300,
   "id": "df09f48d",
   "metadata": {},
   "outputs": [],
   "source": [
    "def CriticalSurfaceMassDensity(D_s, D_d, D_ds):\n",
    "    \"\"\"\n",
    "    Calculates the Critical Surface Mass Density. Denoted by Sigma_crit\n",
    "\n",
    "    Parameters:\n",
    "        D_s : float\n",
    "            distance to source plane \n",
    "        \n",
    "        D_d : float\n",
    "            distance to lens plane\n",
    "        \n",
    "        D_ds : float\n",
    "            distance to source plane from lens plane\n",
    "\n",
    "    \n",
    "    Returns: \n",
    "        Sigma_crit : float\n",
    "            The Critical Surface Mass Density (Mpcˆ-1)\n",
    "    \"\"\"\n",
    "    # Make sure units are correct\n",
    "    c = scipy.constants.c * u.m * u.s**-1\n",
    "    G = scipy.constants.G * u.m**3 * u.kg**-1 * u.s**-2\n",
    "    D_d = D_d.to(u.m)\n",
    "    D_s = D_s.to(u.m)\n",
    "    D_ds = D_ds.to(u.m)\n",
    "    return ((c)**2 / (4 * np.pi * G)) * (D_s / (D_d * D_ds))"
   ]
  },
  {
   "cell_type": "code",
   "execution_count": 1301,
   "id": "43847145",
   "metadata": {},
   "outputs": [],
   "source": [
    "def EinsteinRadius(y_intercept, y_intercept_err):\n",
    "    \"\"\"\n",
    "    Calculate the Einstein radius from the y intercept of the fit\n",
    "\n",
    "    Parameters:\n",
    "        y_intercept : float\n",
    "            The y_intercept of the plot.\n",
    "\n",
    "        y_intercept_error : float\n",
    "            The error of the y_intercept of the plot\n",
    "\n",
    "    Returns\n",
    "        einstein_radius : float\n",
    "            The calculated einstein radius\n",
    "        \n",
    "        error : float\n",
    "            The error on the calculated einstein radius\n",
    "    \"\"\"\n",
    "\n",
    "    einstein_radius = 2*np.exp(y_intercept)\n",
    "    error = np.exp(y_intercept) * y_intercept_err\n",
    "    return einstein_radius, error"
   ]
  },
  {
   "cell_type": "code",
   "execution_count": 1302,
   "id": "a7efe2fc",
   "metadata": {},
   "outputs": [],
   "source": [
    "def VelocityDispersion(D_s, D_ds, einstein_radius, einstein_radius_err):\n",
    "    \"\"\"\n",
    "    Calculates Velocity Dispersion\n",
    "    \n",
    "    Paramaters: \n",
    "        D_s : float\n",
    "            Distance to the source plane\n",
    "\n",
    "        D_ds : float\n",
    "            Distance to the source plane from the lens plane\n",
    "\n",
    "        c : float\n",
    "            y-intercept of the tangential_shear_ring_average graph\n",
    "    \n",
    "    Returns:\n",
    "        velocity_dispersion : float\n",
    "            The amount that the velocity of the galaxies deviate from the mean velocity [msˆ-1]\n",
    "    \"\"\"\n",
    "\n",
    "    velocity_dispersion = scipy.constants.c * np.sqrt((einstein_radius*D_s)/(4*np.pi*D_ds)) * u.m * u.s**-1\n",
    "    error = (einstein_radius_err/(2*einstein_radius)) * velocity_dispersion\n",
    "\n",
    "    return velocity_dispersion, error"
   ]
  },
  {
   "cell_type": "code",
   "execution_count": 1303,
   "id": "7c09fb5f",
   "metadata": {},
   "outputs": [],
   "source": [
    "def Mass(D_d, velocity_dispersion, velocity_dispersion_err, einstein_radius, einstein_radius_err):\n",
    "    \"\"\"\n",
    "    Calculate the estimated mass from the fit\n",
    "\n",
    "    Parameters: \n",
    "        D_d : float \n",
    "            Distance to the lens plane from the observer [parsec]\n",
    "\n",
    "        velocity_dispersion : float\n",
    "            The velocity dispersion estimated from the fit [ms^-1]\n",
    "\n",
    "        velocity_dispersion_err : float\n",
    "            The error on the velocity dispersion [ms^-1]\n",
    "\n",
    "        einstein_radius : float\n",
    "            The einstein radius estimated from the fit [unitless / rad]\n",
    "\n",
    "        einstein_radius_err : float\n",
    "            The error on the einstein radius [unitless / rad]\n",
    "\n",
    "        Returns: \n",
    "            M : float\n",
    "                The estimated mass [kg]\n",
    "            \n",
    "            error : float\n",
    "                The error on the estimated mass [kg]\n",
    "            \n",
    "    \"\"\"\n",
    "    # Convert D_d from parsecs to metres\n",
    "    D_d = D_d.to(u.m)\n",
    "    M = (np.pi*velocity_dispersion**2*D_d*einstein_radius) / (scipy.constants.G * u.m**3 * u.kg**-1 * u.s**-2)\n",
    "    error = np.sqrt(4 * (velocity_dispersion_err / velocity_dispersion)**2 +(einstein_radius_err / einstein_radius)**2) * M\n",
    "    return M, error\n"
   ]
  },
  {
   "cell_type": "markdown",
   "id": "08e4ecfd",
   "metadata": {},
   "source": [
    "## Cosmological Model"
   ]
  },
  {
   "cell_type": "markdown",
   "id": "3f0792ca",
   "metadata": {},
   "source": [
    "#### Changing Cosmological Model Parameters"
   ]
  },
  {
   "cell_type": "code",
   "execution_count": 1304,
   "id": "b2fe5d31",
   "metadata": {},
   "outputs": [],
   "source": [
    "om_m=0.3;                        # Tick\n",
    "om_r=0.00000;\n",
    "om_b=0.04;                       # Tick\n",
    "om_cdm=om_m-om_b;                # Tick\n",
    "om_nu=0.0;                       # Tick\n",
    "om_de=1.0-om_m-om_r-om_nu;       # Tick\n",
    "om_k=1.0-om_m-om_r-om_de-om_nu;  # In agreement\n",
    "w0=-1.0;                         # Tick\n",
    "wa=0.0;                          # In agreement\n",
    "H=70.0;                          # Tick\n",
    "fbaryon=om_b/om_m;\n",
    "fcdm=om_cdm/om_m;\n",
    "\n",
    "cosmo = wCDM(H0=H, Om0=om_m, Ode0=om_de, w0=w0, m_nu=om_nu, Ob0=om_b)"
   ]
  },
  {
   "cell_type": "markdown",
   "id": "8e004e0f",
   "metadata": {},
   "source": [
    "#### Calculate Distances using Cosmological Model"
   ]
  },
  {
   "cell_type": "code",
   "execution_count": 1305,
   "id": "752f5bcd",
   "metadata": {},
   "outputs": [],
   "source": [
    "D_d, D_s, D_o = cosmo.angular_diameter_distance(np.array([0.3, 1.0, 0]))\n",
    "D_ds = D_s - D_d"
   ]
  },
  {
   "cell_type": "markdown",
   "id": "831470ff",
   "metadata": {},
   "source": [
    "## Calculations"
   ]
  },
  {
   "cell_type": "markdown",
   "id": "b0ae8a46",
   "metadata": {},
   "source": [
    "#### Calculate the Different Shears"
   ]
  },
  {
   "cell_type": "code",
   "execution_count": 1306,
   "id": "c1f1d303",
   "metadata": {},
   "outputs": [],
   "source": [
    "# Testing if the code works\n",
    "gamma_t_pure, gamma_x_pure             = Shear(theta, gam1_s, gam2_s)        # Calculates the tangetial shear for the pure signal\n",
    "gamma_t_noise, gamma_x_noise           = Shear(theta, gam1_r, gam2_r)        #                                     .. pure random (pure noise)\n",
    "gamma_t_noise_pure, gamma_x_noise_pure = Shear(theta, gam1_sr, gam2_sr)      #                                     .. signal and noise"
   ]
  },
  {
   "cell_type": "markdown",
   "id": "02f24e67",
   "metadata": {},
   "source": [
    "#### Test if code works"
   ]
  },
  {
   "cell_type": "code",
   "execution_count": 1307,
   "id": "4fd735ea",
   "metadata": {},
   "outputs": [
    {
     "name": "stdout",
     "output_type": "stream",
     "text": [
      "\n",
      "\n",
      "        Shear Values of a single position n=7918 from the array for the tangetial shear of; pure signal, noise signal and pure + noise signal. \n",
      "\n",
      "\n",
      "        My Values:\n",
      "            Pure:\n",
      "                Tangential Shear = -0.0\n",
      "                Gamma X = 0.0\n",
      "            Noise Signal:\n",
      "                Tangential Shear = 0.08298944380478114 \n",
      "                Gamma X = -0.04375516533307341\n",
      "            Noise + Pure Signal: \n",
      "                Tangential Shear = 0.08298944380478114 \n",
      "                Gamma X = -0.04375516533307341 \n",
      "\n",
      "\n",
      "        Lens Pack Values: \n",
      "            Pure: \n",
      "                Tangential Shear = 0.0 \n",
      "                Gamma X = 0.0 \n",
      "            Noise Signal: \n",
      "                Tangential Shear = 0.08298944380478114 \n",
      "                Gamma X = -0.04375516533307341\n",
      "            Noise + Pure Signal: \n",
      "                Tangential Shear = 0.08298944380478114 \n",
      "                Gamma X = -0.04375516533307341 \n",
      "\n",
      "\n"
     ]
    }
   ],
   "source": [
    "n = random.randint(0, head.Ngal)\n",
    "\n",
    "print(f\"\"\"\n",
    "      \n",
    "        Shear Values of a single position n={n} from the array for the tangetial shear of; pure signal, noise signal and pure + noise signal. \n",
    "\n",
    "        \n",
    "        My Values:\n",
    "            Pure:\n",
    "                Tangential Shear = {gamma_t_pure[n]}\n",
    "                Gamma X = {gamma_x_pure[n]}\n",
    "            Noise Signal:\n",
    "                Tangential Shear = {gamma_t_noise[n]} \n",
    "                Gamma X = {gamma_x_noise[n]}\n",
    "            Noise + Pure Signal: \n",
    "                Tangential Shear = {gamma_t_noise_pure[n]} \n",
    "                Gamma X = {gamma_x_noise_pure[n]} \n",
    "\n",
    "                \n",
    "        Lens Pack Values: \n",
    "            Pure: \n",
    "                Tangential Shear = {gam_t_s_LP[n]} \n",
    "                Gamma X = {gam_x_s_LP[n]} \n",
    "            Noise Signal: \n",
    "                Tangential Shear = {gam_t_r_LP[n]} \n",
    "                Gamma X = {gam_x_r_LP[n]}\n",
    "            Noise + Pure Signal: \n",
    "                Tangential Shear = {gam_t_sr_LP[n]} \n",
    "                Gamma X = {gam_x_sr_LP[n]} \n",
    "\n",
    "\"\"\")"
   ]
  },
  {
   "cell_type": "markdown",
   "id": "10d129f4",
   "metadata": {},
   "source": [
    "### Calculating the tangential shear ring average"
   ]
  },
  {
   "cell_type": "code",
   "execution_count": 1308,
   "id": "3c24c59b",
   "metadata": {},
   "outputs": [
    {
     "name": "stdout",
     "output_type": "stream",
     "text": [
      "2.5812869045475556e-05\n",
      "0.012333140804797513\n",
      "23.716007681757752 kpc\n",
      "11.331280593082525 Mpc\n",
      "16\n",
      "3\n",
      "1\n",
      "2\n",
      "8\n",
      "13\n",
      "40\n",
      "89\n",
      "172\n",
      "377\n",
      "952\n",
      "2037\n",
      "4719\n",
      "10736\n",
      "24234\n",
      "47626\n",
      "8072\n",
      "16\n",
      "3\n",
      "1\n",
      "2\n",
      "8\n",
      "13\n",
      "40\n",
      "89\n",
      "172\n",
      "377\n",
      "952\n",
      "2037\n",
      "4719\n",
      "10736\n",
      "24234\n",
      "47626\n",
      "8072\n",
      "16\n",
      "3\n",
      "1\n",
      "2\n",
      "8\n",
      "13\n",
      "40\n",
      "89\n",
      "172\n",
      "377\n",
      "952\n",
      "2037\n",
      "4719\n",
      "10736\n",
      "24234\n",
      "47626\n",
      "8072\n"
     ]
    }
   ],
   "source": [
    "# theta_array is an array the magnitude of theta\n",
    "theta_array = np.array([])\n",
    "theta_array = np.append(theta_array, np.sqrt(posx * posx + posy * posy))\n",
    "\n",
    "print(min(theta_array))\n",
    "print(max(theta_array))\n",
    "\n",
    "print(min(theta_array)*D_d.to('kpc'))\n",
    "print(max(theta_array)*D_d.to('Mpc'))\n",
    "\n",
    "# plt.scatter(theta_array, gamma_t_pure)\n",
    "# plt.xscale(\"log\")\n",
    "# plt.yscale(\"log\")\n",
    "\n",
    "tangential_shear_ring_average_pure = TangentialShearRingAverage(theta_array, gamma_t_pure, \"pure\")\n",
    "tangential_shear_ring_average_noise = TangentialShearRingAverage(theta_array, gamma_t_noise, \"noise\")\n",
    "tangential_shear_ring_average_noise_pure = TangentialShearRingAverage(theta_array, gamma_t_noise_pure, \"noise + pure\")"
   ]
  },
  {
   "cell_type": "markdown",
   "id": "4ee7f0c6",
   "metadata": {},
   "source": [
    "### Tangential Shear Plots"
   ]
  },
  {
   "cell_type": "markdown",
   "id": "d4dc741b",
   "metadata": {},
   "source": [
    "From the fitting function:\n",
    "- a1 = m \n",
    "- a0 = c"
   ]
  },
  {
   "cell_type": "code",
   "execution_count": 1309,
   "id": "2334b88c",
   "metadata": {},
   "outputs": [
    {
     "data": {
      "text/plain": [
       "<contextlib.ExitStack at 0x11036f6b0>"
      ]
     },
     "execution_count": 1309,
     "metadata": {},
     "output_type": "execute_result"
    }
   ],
   "source": [
    "einstien_radius = []\n",
    "velocity_dispersion = []\n",
    "mass = []\n",
    "\n",
    "plt.ioff()  # Turn off interactive mode"
   ]
  },
  {
   "cell_type": "markdown",
   "id": "9f72d9d3",
   "metadata": {},
   "source": [
    "#### Pure"
   ]
  },
  {
   "cell_type": "code",
   "execution_count": 1310,
   "id": "813ad0a6",
   "metadata": {},
   "outputs": [
    {
     "name": "stdout",
     "output_type": "stream",
     "text": [
      "a0:= -10.7066563 ; Err_a0 :=  0.1283070\n",
      "a1:= -1.0000000    1 / rad ; Err_a1 :=  0.0000000    1 / rad\n",
      "Reduced Chisquare for model A:=      0.8605893, number of degrees of freedom:=   9\n"
     ]
    },
    {
     "data": {
      "image/png": "[encoded data removed]",
      "text/plain": [
       "<Figure size 960x720 with 1 Axes>"
      ]
     },
     "metadata": {},
     "output_type": "display_data"
    },
    {
     "data": {
      "image/png": "[encoded data removed]",
      "text/plain": [
       "<Figure size 960x720 with 1 Axes>"
      ]
     },
     "metadata": {},
     "output_type": "display_data"
    },
    {
     "name": "stdout",
     "output_type": "stream",
     "text": [
      "1.4142135623730951\n"
     ]
    }
   ],
   "source": [
    "# plt.scatter(tangential_shear_ring_average_pure[0], tangential_shear_ring_average_pure[1])\n",
    "c, m, c_err, m_err = PlottingFunction(tangential_shear_ring_average_pure, \"Tangential_Shear_Ring_Average (Pure) vs Theta\", r\"$\\theta$ (Radians)\", \"Shear\", \"g\", \"tangential_shear_ring_average_pure\")\n",
    "plt.show() # Comment this to combine plots\n",
    "\n",
    "print(tangential_shear_ring_average_pure[1][2]/tangential_shear_ring_average_pure[2][2])"
   ]
  },
  {
   "cell_type": "code",
   "execution_count": 1311,
   "id": "c08f1230",
   "metadata": {},
   "outputs": [
    {
     "name": "stdout",
     "output_type": "stream",
     "text": [
      "Einstein Radius =  4.479073876892663e-05 +- 2.8734833013747947e-06\n",
      "Velocity Dispersion =  849587.1809878625 m / s +- 27252.001694202147 m / s\n",
      "Mass 21696926392173.633 solMass +- 1968492051283.2996 solMass\n"
     ]
    }
   ],
   "source": [
    "einstien_radius.append(EinsteinRadius(c, c_err))\n",
    "velocity_dispersion.append(VelocityDispersion(D_s, D_ds, einstien_radius[0][0], einstien_radius[0][1]))\n",
    "mass.append(Mass(D_d, velocity_dispersion[0][0], velocity_dispersion[0][1], einstien_radius[0][0], einstien_radius[0][1]))\n",
    "\n",
    "print(\"Einstein Radius = \", einstien_radius[0][0], \"+-\", einstien_radius[0][1])\n",
    "print(\"Velocity Dispersion = \", velocity_dispersion[0][0], \"+-\", velocity_dispersion[0][1])\n",
    "print(\"Mass\", mass[0][0].to(u.Msun), \"+-\", mass[0][1].to(u.Msun))"
   ]
  },
  {
   "cell_type": "markdown",
   "id": "adb0fb34",
   "metadata": {},
   "source": [
    "#### Noise"
   ]
  },
  {
   "cell_type": "code",
   "execution_count": 1312,
   "id": "17881705",
   "metadata": {},
   "outputs": [
    {
     "data": {
      "image/png": "[encoded data removed]",
      "text/plain": [
       "<Figure size 960x720 with 1 Axes>"
      ]
     },
     "metadata": {},
     "output_type": "display_data"
    }
   ],
   "source": [
    "# c, m, c_err, m_err = PlottingFunction(tangential_shear_ring_average_noise, \"Tangential_Shear_Ring_Average vs Theta\", r\"$\\theta$ (Radians)\", \"Shear\", \"r\", \"tangential_shear_ring_average_noise\")\n",
    "plt.errorbar(tangential_shear_ring_average_noise[0], tangential_shear_ring_average_noise[1], yerr=tangential_shear_ring_average_noise[2], fmt=\".\")\n",
    "plt.axhline(0)\n",
    "\n",
    "# plt.title(\"Tangential_Shear_Ring_Average (Noise) vs Theta\")\n",
    "plt.xlabel(r\"$\\theta$ (Radians)\")\n",
    "plt.ylabel(\"Shear\")\n",
    "plt.xscale(\"log\")\n",
    "\n",
    "plt.show() # Comment this to combine plots"
   ]
  },
  {
   "cell_type": "code",
   "execution_count": 1313,
   "id": "d0492c3c",
   "metadata": {},
   "outputs": [],
   "source": [
    "\n",
    "# einstien_radius.append(EinsteinRadius(c, c_err))\n",
    "# velocity_dispersion.append(VelocityDispersion(D_s, D_ds, einstien_radius[1][0], einstien_radius[1][1]))\n",
    "# mass.append(Mass(D_d, velocity_dispersion[1][0], velocity_dispersion[1][1], einstien_radius[1][0], einstien_radius[1][1]))\n",
    "\n",
    "# print(\"Einstein Radius = \", einstien_radius[1][0], \"+-\", einstien_radius[1][1])\n",
    "# print(\"Velocity Dispersion = \", velocity_dispersion[1][0], \"+-\", velocity_dispersion[1][1])\n",
    "# print(\"Mass\", mass[1][0].to(u.Msun), \"+-\", mass[1][1].to(u.Msun))"
   ]
  },
  {
   "cell_type": "markdown",
   "id": "90482890",
   "metadata": {},
   "source": [
    "#### Noise + Pure"
   ]
  },
  {
   "cell_type": "code",
   "execution_count": 1314,
   "id": "0e503d62",
   "metadata": {},
   "outputs": [
    {
     "name": "stdout",
     "output_type": "stream",
     "text": [
      "a0:= -9.9999219 ; Err_a0 :=  0.4700473\n",
      "a1:= -1.0000000    1 / rad ; Err_a1 :=  0.0000000    1 / rad\n",
      "Reduced Chisquare for model A:=      0.3582833, number of degrees of freedom:=  10\n"
     ]
    },
    {
     "data": {
      "image/png": "[encoded data removed]",
      "text/plain": [
       "<Figure size 960x720 with 1 Axes>"
      ]
     },
     "metadata": {},
     "output_type": "display_data"
    },
    {
     "data": {
      "image/png": "[encoded data removed]",
      "text/plain": [
       "<Figure size 960x720 with 1 Axes>"
      ]
     },
     "metadata": {},
     "output_type": "display_data"
    }
   ],
   "source": [
    "c, m, c_err, m_err = PlottingFunction(tangential_shear_ring_average_noise_pure, \"Tangential_Shear_Ring_Average (Pure + Noise) vs Theta\", r\"$\\theta$ (Radians)\", \"Shear\", \"b\", \"tangential_shear_ring_average_noise_pure\")\n",
    "plt.show() # Comment this to combine plots"
   ]
  },
  {
   "cell_type": "code",
   "execution_count": 1315,
   "id": "fd63b9f1",
   "metadata": {},
   "outputs": [
    {
     "name": "stdout",
     "output_type": "stream",
     "text": [
      "Einstein Radius =  9.080695019625008e-05 +- 2.1341781113173015e-05\n",
      "Velocity Dispersion =  1209688.0293401685 m / s +- 142152.6495582582 m / s\n",
      "Mass 89178455014018.6 solMass +- 29640567429002.43 solMass\n"
     ]
    }
   ],
   "source": [
    "einstien_radius.append(EinsteinRadius(c, c_err))\n",
    "velocity_dispersion.append(VelocityDispersion(D_s, D_ds, einstien_radius[1][0], einstien_radius[1][1]))\n",
    "mass.append(Mass(D_d, velocity_dispersion[1][0], velocity_dispersion[1][1], einstien_radius[1][0], einstien_radius[1][1]))\n",
    "\n",
    "print(\"Einstein Radius = \", einstien_radius[1][0], \"+-\", einstien_radius[1][1])\n",
    "print(\"Velocity Dispersion = \", velocity_dispersion[1][0], \"+-\", velocity_dispersion[1][1])\n",
    "print(\"Mass\", mass[1][0].to(u.Msun), \"+-\", mass[1][1].to(u.Msun))"
   ]
  },
  {
   "cell_type": "markdown",
   "id": "509f9c42",
   "metadata": {},
   "source": [
    "#### Show Plots"
   ]
  },
  {
   "cell_type": "code",
   "execution_count": 1316,
   "id": "5973357e",
   "metadata": {},
   "outputs": [],
   "source": [
    "plt.show()"
   ]
  },
  {
   "cell_type": "markdown",
   "id": "39c58c2a",
   "metadata": {},
   "source": [
    "### Kappa Calculations"
   ]
  },
  {
   "cell_type": "code",
   "execution_count": 1317,
   "id": "1e0f6825",
   "metadata": {},
   "outputs": [],
   "source": [
    "mag_theta = np.array([])\n",
    "for t in theta:\n",
    "    mag_theta = np.append(mag_theta, np.linalg.norm(t))"
   ]
  },
  {
   "cell_type": "markdown",
   "id": "3a5bafdc",
   "metadata": {},
   "source": [
    "### Kappa Plots"
   ]
  },
  {
   "cell_type": "markdown",
   "id": "ff8fee1a",
   "metadata": {},
   "source": [
    "#### Pure"
   ]
  },
  {
   "cell_type": "code",
   "execution_count": 1318,
   "id": "b362970a",
   "metadata": {},
   "outputs": [
    {
     "name": "stdout",
     "output_type": "stream",
     "text": [
      "Pure\n",
      "Velocity Dispersion =  849587.1809878625 m / s\n",
      "16\n",
      "3\n",
      "1\n",
      "2\n",
      "8\n",
      "13\n",
      "40\n",
      "89\n",
      "172\n",
      "377\n",
      "952\n",
      "2037\n",
      "4719\n",
      "10736\n",
      "24234\n",
      "47626\n",
      "8072\n",
      "16\n",
      "3\n",
      "1\n",
      "2\n",
      "8\n",
      "13\n",
      "40\n",
      "89\n",
      "172\n",
      "377\n",
      "952\n",
      "2037\n",
      "4719\n",
      "10736\n",
      "24234\n",
      "47626\n",
      "8072\n",
      "a0:= -10.7068574 ; Err_a0 :=  0.1283035\n",
      "a1:= -1.0000000    1 / rad ; Err_a1 :=  0.0000000    1 / rad\n",
      "Reduced Chisquare for model A:=      0.0090950, number of degrees of freedom:=  10\n",
      "a0:= -10.0137103 ; Err_a0 :=  0.1283035\n",
      "a1:= -1.0000000    1 / rad ; Err_a1 :=  0.0000000    1 / rad\n",
      "Reduced Chisquare for model A:=      0.0090950, number of degrees of freedom:=  10\n",
      "a0:= -10.0137103 ; Err_a0 :=  0.1283035\n",
      "a1:= -1.0000000    1 / rad ; Err_a1 :=  0.0000000    1 / rad\n",
      "Reduced Chisquare for model A:=      0.0090950, number of degrees of freedom:=  10\n"
     ]
    },
    {
     "data": {
      "image/png": "[encoded data removed]",
      "text/plain": [
       "<Figure size 960x720 with 1 Axes>"
      ]
     },
     "metadata": {},
     "output_type": "display_data"
    }
   ],
   "source": [
    "# Pure\n",
    "print(\"Pure\")\n",
    "print(\"Velocity Dispersion = \", velocity_dispersion[0][0])\n",
    "\n",
    "kappa_ring_average   = KappaRingAverage(theta_array, einstien_radius[0][0], \"pure\")\n",
    "kappa_bars           = KappaBar(theta_array, einstien_radius[0][0], \"pure\")\n",
    "kappa_bar_minus_ring = [kappa_bars[0], kappa_bars[1] - kappa_ring_average[1], np.sqrt(kappa_bars[2]**2 + kappa_ring_average[2]**2)]\n",
    "\n",
    "PlottingFunction(kappa_ring_average, \"Kappa_Ring_Average and Kappa_Bar vs Theta (Pure)\", r\"$\\theta$ (Radians)\", \"Shear\", \"r\", \"kappa_ring_average\")\n",
    "PlottingFunction(kappa_bars, \"Kappa_Ring_Average and Kappa_Bar vs Theta (Pure)\", r\"$\\theta$ (Radians)\", \"Shear\", \"b\", \"kappa_bar\")\n",
    "PlottingFunction(kappa_bars, \"Kappa_Ring_Average - Kappa_Bar vs Theta (Pure)\", r\"$\\theta$ (Radians)\", \"Shear\", \"b\", \"Kappa_Ring_Average - Kappa_Bar vs Theta (Pure)\")\n",
    "\n",
    "\n",
    "plt.show()\n"
   ]
  },
  {
   "cell_type": "code",
   "execution_count": 1319,
   "id": "5de9a361",
   "metadata": {},
   "outputs": [],
   "source": [
    "# tangential_shear_ring_average_pure = [tangential_shear_ring_average_pure[0], tangential_shear_ring_average_pure[1], tangential_shear_ring_average_pure[2]]\n",
    "# c, m, c_err, m_err = PlottingFunction(tangential_shear_ring_average_pure, \"Tangential_Shear_Ring_Average vs Theta\", r\"$\\theta$ (Radians)\", \"tangential_shear_ring_average_pure\", \"b\", \"tangential_shear_ring_average_pure\")\n",
    "# # PlottingFunction(kappa_ring_average, \"(Kappa_Bar - Kappa_Ring_Average) and Tangential_Shear_Ring_Average (Pure)\", r\"$\\theta$ (Radians)\", \"(kappa_bar - kappa_ring_average)\", \"g\", \"(kappa_bar - kappa_ring_average)\")\n",
    "# # plt.show()"
   ]
  },
  {
   "cell_type": "markdown",
   "id": "8ea38233",
   "metadata": {},
   "source": [
    "#### Noise"
   ]
  },
  {
   "cell_type": "code",
   "execution_count": 1320,
   "id": "678647e0",
   "metadata": {},
   "outputs": [
    {
     "name": "stdout",
     "output_type": "stream",
     "text": [
      "Noise\n",
      "Velocity Dispersion =  1209688.0293401685 m / s\n",
      "16\n",
      "3\n",
      "1\n",
      "2\n",
      "8\n",
      "13\n",
      "40\n",
      "89\n",
      "172\n",
      "377\n",
      "952\n",
      "2037\n",
      "4719\n",
      "10736\n",
      "24234\n",
      "47626\n",
      "8072\n",
      "16\n",
      "3\n",
      "1\n",
      "2\n",
      "8\n",
      "13\n",
      "40\n",
      "89\n",
      "172\n",
      "377\n",
      "952\n",
      "2037\n",
      "4719\n",
      "10736\n",
      "24234\n",
      "47626\n",
      "8072\n",
      "a0:= -10.0296852 ; Err_a0 :=  0.3246053\n",
      "a1:= -1.0000000    1 / rad ; Err_a1 :=  0.0000000    1 / rad\n",
      "Reduced Chisquare for model A:=      0.1787930, number of degrees of freedom:=  11\n",
      "a0:= -9.3365380 ; Err_a0 :=  0.1623026\n",
      "a1:= -1.0000000    1 / rad ; Err_a1 :=  0.0000000    1 / rad\n",
      "Reduced Chisquare for model A:=      0.7151720, number of degrees of freedom:=  11\n"
     ]
    },
    {
     "data": {
      "image/png": "[encoded data removed]",
      "text/plain": [
       "<Figure size 960x720 with 1 Axes>"
      ]
     },
     "metadata": {},
     "output_type": "display_data"
    }
   ],
   "source": [
    "# Noise\n",
    "print(\"Noise\")\n",
    "print(\"Velocity Dispersion = \", velocity_dispersion[1][0])\n",
    "\n",
    "kappa_ring_average   = KappaRingAverage(mag_theta, einstien_radius[1][0], \"noise\")\n",
    "kappa_bars           = KappaBar(mag_theta, einstien_radius[1][0], \"noise\")\n",
    "kappa_bar_minus_ring = [kappa_bars[0], kappa_bars[1] - kappa_ring_average[1], np.sqrt(kappa_bars[2]**2 + kappa_ring_average[2]**2)]\n",
    "\n",
    "PlottingFunction(kappa_ring_average, \"Kappa_Ring_Average and Kappa_Bar vs Theta (Noise)\", r\"$\\theta$ (Radians)\", \"kappa_ring_average_pure\", \"r\", \"kappa_ring_average\")\n",
    "PlottingFunction(kappa_bars, \"Kappa_Ring_Average and Kappa_Bar vs Theta (Noise)\", r\"$\\theta$ (Radians)\", \"kappa_bar_pure\", \"b\", \"kappa_bar\")\n",
    "plt.show()"
   ]
  },
  {
   "cell_type": "code",
   "execution_count": 1321,
   "id": "84a8bcf2",
   "metadata": {},
   "outputs": [
    {
     "name": "stdout",
     "output_type": "stream",
     "text": [
      "a0:= -10.0296852 ; Err_a0 :=  0.4590612\n",
      "a1:= -1.0000000    1 / rad ; Err_a1 :=  0.0000000    1 / rad\n",
      "Reduced Chisquare for model A:=      0.0893965, number of degrees of freedom:=  11\n"
     ]
    },
    {
     "data": {
      "image/png": "[encoded data removed]",
      "text/plain": [
       "<Figure size 960x720 with 1 Axes>"
      ]
     },
     "metadata": {},
     "output_type": "display_data"
    },
    {
     "data": {
      "image/png": "[encoded data removed]",
      "text/plain": [
       "<Figure size 960x720 with 1 Axes>"
      ]
     },
     "metadata": {},
     "output_type": "display_data"
    }
   ],
   "source": [
    "c, m, c_err, m_err = PlottingFunction(tangential_shear_ring_average_noise, \"(Kappa_Bar - Kappa_Ring_Average) and Tangential_Shear_Ring_Average (Noise)\", r\"$\\theta$ (Radians)\", \"tangential_shear_ring_average_pure\", \"b\", \"tangential_shear_ring_average_noise\")\n",
    "PlottingFunction(kappa_bar_minus_ring, \"(Kappa_Bar - Kappa_Ring_Average) and Tangential_Shear_Ring_Average (Noise)\", r\"$\\theta$ (Radians)\", \"(kappa_bar - kappa_ring_average)\", \"g\", \"(kappa_bar - kappa_ring_average) (Noise)\")\n",
    "plt.show()"
   ]
  },
  {
   "cell_type": "markdown",
   "id": "520a0ad2",
   "metadata": {},
   "source": [
    "#### Noise + Pure"
   ]
  },
  {
   "cell_type": "code",
   "execution_count": 1322,
   "id": "bec8031c",
   "metadata": {},
   "outputs": [
    {
     "name": "stdout",
     "output_type": "stream",
     "text": [
      "Pure + Noise\n"
     ]
    },
    {
     "ename": "IndexError",
     "evalue": "list index out of range",
     "output_type": "error",
     "traceback": [
      "\u001b[31m---------------------------------------------------------------------------\u001b[39m",
      "\u001b[31mIndexError\u001b[39m                                Traceback (most recent call last)",
      "\u001b[36mCell\u001b[39m\u001b[36m \u001b[39m\u001b[32mIn[1322]\u001b[39m\u001b[32m, line 3\u001b[39m\n\u001b[32m      1\u001b[39m \u001b[38;5;66;03m# Pure + Noise\u001b[39;00m\n\u001b[32m      2\u001b[39m \u001b[38;5;28mprint\u001b[39m(\u001b[33m\"\u001b[39m\u001b[33mPure + Noise\u001b[39m\u001b[33m\"\u001b[39m)\n\u001b[32m----> \u001b[39m\u001b[32m3\u001b[39m \u001b[38;5;28mprint\u001b[39m(\u001b[33m\"\u001b[39m\u001b[33mVelocity Dispersion = \u001b[39m\u001b[33m\"\u001b[39m, \u001b[43mvelocity_dispersion\u001b[49m\u001b[43m[\u001b[49m\u001b[32;43m2\u001b[39;49m\u001b[43m]\u001b[49m[\u001b[32m0\u001b[39m])\n\u001b[32m      5\u001b[39m kappa_ring_average   = KappaRingAverage(mag_theta, einstien_radius[\u001b[32m2\u001b[39m][\u001b[32m0\u001b[39m], \u001b[33m\"\u001b[39m\u001b[33mnoise + pure\u001b[39m\u001b[33m\"\u001b[39m)\n\u001b[32m      6\u001b[39m kappa_bars           = KappaBar(mag_theta, einstien_radius[\u001b[32m2\u001b[39m][\u001b[32m0\u001b[39m], \u001b[33m\"\u001b[39m\u001b[33mnoise + pure\u001b[39m\u001b[33m\"\u001b[39m)\n",
      "\u001b[31mIndexError\u001b[39m: list index out of range"
     ]
    }
   ],
   "source": [
    "# Pure + Noise\n",
    "print(\"Pure + Noise\")\n",
    "print(\"Velocity Dispersion = \", velocity_dispersion[2][0])\n",
    "\n",
    "kappa_ring_average   = KappaRingAverage(mag_theta, einstien_radius[2][0], \"noise + pure\")\n",
    "kappa_bars           = KappaBar(mag_theta, einstien_radius[2][0], \"noise + pure\")\n",
    "kappa_bar_minus_ring = [kappa_bars[0], kappa_bars[1] - kappa_ring_average[1], np.sqrt(kappa_bars[2]**2 + kappa_ring_average[2]**2)]\n",
    "\n",
    "PlottingFunction(kappa_ring_average, \"Kappa_Ring_Average and Kappa_Bar vs Theta (Pure + Noise)\", r\"$\\theta$ (Radians)\", \"kappa_ring_average_pure\", \"r\", \"kappa_ring_average (Pure + Noise)\")\n",
    "PlottingFunction(kappa_bars, \"Kappa_Ring_Average and Kappa_Bar vs Theta (Pure + Noise)\", r\"$\\theta$ (Radians)\", \"kappa_bar_pure\", \"b\", \"kappa_bar (Pure + Noise)\")\n",
    "plt.show()"
   ]
  },
  {
   "cell_type": "code",
   "execution_count": null,
   "id": "622c9f06",
   "metadata": {},
   "outputs": [
    {
     "name": "stdout",
     "output_type": "stream",
     "text": [
      "a0:= -9.9999219 ; Err_a0 :=  0.4772092\n",
      "a1:= -1.0000000    1 / rad ; Err_a1 :=  0.0000000    1 / rad\n",
      "Reduced Chisquare for model A:=      0.3582833, number of degrees of freedom:=  10\n"
     ]
    },
    {
     "data": {
      "image/png": "[encoded data removed]",
      "text/plain": [
       "<Figure size 900x800 with 1 Axes>"
      ]
     },
     "metadata": {},
     "output_type": "display_data"
    },
    {
     "data": {
      "image/png": "[encoded data removed]",
      "text/plain": [
       "<Figure size 900x800 with 1 Axes>"
      ]
     },
     "metadata": {},
     "output_type": "display_data"
    },
    {
     "name": "stdout",
     "output_type": "stream",
     "text": [
      "a0:= -10.0296852 ; Err_a0 :=  0.2042992\n",
      "a1:= -1.0000000    1 / rad ; Err_a1 :=  0.0000000    1 / rad\n",
      "Reduced Chisquare for model A:=      0.1787930, number of degrees of freedom:=  11\n"
     ]
    },
    {
     "data": {
      "image/png": "[encoded data removed]",
      "text/plain": [
       "<Figure size 900x800 with 1 Axes>"
      ]
     },
     "metadata": {},
     "output_type": "display_data"
    },
    {
     "data": {
      "image/png": "[encoded data removed]",
      "text/plain": [
       "<Figure size 900x800 with 1 Axes>"
      ]
     },
     "metadata": {},
     "output_type": "display_data"
    }
   ],
   "source": [
    "c, m, c_err, m_err = PlottingFunction(tangential_shear_ring_average_noise_pure, \"Tangential_Shear_Ring_Average vs Theta\", r\"$\\theta$ (Radians)\", \"tangential_shear_ring_average_pure\", \"b\", \"tangential_shear_ring_average (Pure + Noise)\")\n",
    "PlottingFunction(kappa_ring_average, \"(Kappa_Bar - Kappa_Ring_Average) and Tangential_Shear_Ring_Average (Noise + Pure)\", r\"$\\theta$ (Radians)\", \"(kappa_bar - kappa_ring_average)\", \"g\", \"(kappa_bar - kappa_ring_average) (Pure + Noise)\")\n",
    "plt.show()"
   ]
  },
  {
   "cell_type": "markdown",
   "id": "e8d3e3b9",
   "metadata": {},
   "source": [
    "### Calculation of the Critical Surface Mass Density"
   ]
  },
  {
   "cell_type": "code",
   "execution_count": null,
   "id": "e874bc74",
   "metadata": {},
   "outputs": [
    {
     "name": "stdout",
     "output_type": "stream",
     "text": [
      "Critcal Surface Mass Density 8.516597115863421 kg / m2\n"
     ]
    }
   ],
   "source": [
    "# Convert our units from Mpcˆ-1 to mˆ-1\n",
    "sig_crit = CriticalSurfaceMassDensity(D_s, D_d, D_ds)\n",
    "\n",
    "print(\"Critcal Surface Mass Density\", sig_crit)"
   ]
  },
  {
   "cell_type": "markdown",
   "id": "fd1fe386",
   "metadata": {},
   "source": [
    "### Surface Mass Density Function"
   ]
  },
  {
   "cell_type": "code",
   "execution_count": null,
   "id": "3c442132",
   "metadata": {},
   "outputs": [],
   "source": [
    "def SurfaceMassDensity(theta, D_d, A):\n",
    "    \"\"\"\n",
    "    Return the surface mass density at a given theta\n",
    "\n",
    "    Parameters:\n",
    "\n",
    "        theta : float array\n",
    "        Distance from the origin in radians \n",
    "\n",
    "        D_d : float\n",
    "        Distance from origin to lens measrued in in Mpc\n",
    "    \n",
    "    Returns:\n",
    "\n",
    "        surface_mass_density : float\n",
    "        surface mass density at a given theta\n",
    "\n",
    "    \"\"\"\n",
    "\n",
    "    xi = theta * D_d\n",
    "\n",
    "    return (A * np.pi) / xi\n",
    "\n",
    "\n",
    "\n",
    "\n"
   ]
  }
 ],
 "metadata": {
  "kernelspec": {
   "display_name": "Python 3 (ipykernel)",
   "language": "python",
   "name": "python3"
  },
  "language_info": {
   "codemirror_mode": {
    "name": "ipython",
    "version": 3
   },
   "file_extension": ".py",
   "mimetype": "text/x-python",
   "name": "python",
   "nbconvert_exporter": "python",
   "pygments_lexer": "ipython3",
   "version": "3.13.2"
  }
 },
 "nbformat": 4,
 "nbformat_minor": 5
}
